{
  "cells": [
    {
      "cell_type": "markdown",
      "metadata": {
        "id": "u0xAalrlbCzv"
      },
      "source": [
        "# Week 7 Assignment\n",
        "\n",
        "We've been working with different types of data structures in Python (dictionary, list, etc), how those are represented in JSON documents, and how to write code to access specific data elements. In this week's assignment, you will need to create your own JSON document to store information about yourself and the grades you've received from week 1 to week 4 and the week 6 quiz.  That is, everything you should have received a grade for.  Then you'll need to show me you know how to navigate the JSON in that file.\n",
        "\n",
        "Different from what we've done in the past, you do not have to write any functions or include any docstrings.  Just create some JSON and write some code.\n",
        "\n",
        "---"
      ]
    },
    {
      "cell_type": "markdown",
      "metadata": {
        "id": "68pWEcNFbCz1"
      },
      "source": [
        "## 7.1 Create a JSON string\n",
        "\n",
        "Create a JSON string that contains your name, email, year you were born, all of the grades you've received back so far, and a comment about what you thought was most challenging on each of those assignments.  This can be any structure you choose, but make sure it uses a dictionary and a list, and has at least two levels of hierarchy.  That is, it can't just be one big long list."
      ]
    },
    {
      "cell_type": "markdown",
      "metadata": {
        "id": "heTaqiZWbCz3"
      },
      "source": [
        "First, explain how your data structure is going to look..."
      ]
    },
    {
      "cell_type": "markdown",
      "metadata": {
        "id": "ckK-4drXbCz4"
      },
      "source": [
        "My json file will have a representation containing my personal information (name, email, year of birth), a list of grades for different assignments, and a list of challenges faced during specific weeks or quizzes.\n",
        "\n",
        "it will have a structure as :\n",
        " my_info as the main key having the elements/items as follows:\n",
        "\n",
        "    i. name key which will contain my name,\n",
        "    ii. email which will contain the email address,\n",
        "    iii. year_of_birth which will contain an integer for the year i was born.\n",
        "    iv. grades will contain grades for the past assignements and it entailed, this being a dictionary.\n",
        "    v. It will lastly contain a list of comments for the past asignments.\n",
        "\n",
        "\n",
        "\n"
      ]
    },
    {
      "cell_type": "markdown",
      "metadata": {
        "id": "1Fygw8ydbCz4"
      },
      "source": [
        "Then put the actual JSON you've created inside the multiline string below..."
      ]
    },
    {
      "cell_type": "code",
      "execution_count": 10,
      "metadata": {
        "id": "i5-3Q83KbCz5"
      },
      "outputs": [],
      "source": [
        "\n",
        "hds5210 =  \"\"\" {\n",
        "    \"my_info\": {\n",
        "        \"name\": \"Tanneru Naveen\",\n",
        "        \"email\": \"tannerunaveen4@gmail.com\",\n",
        "        \"year_of_birth\": 1994,\n",
        "        \"grades\": [\n",
        "          {\n",
        "              \"week\": \"Week 01 Assignment\",\n",
        "              \"grade\": 10,\n",
        "              \"expected_grade\": 10,\n",
        "              \"about_the_week\": \"Interact with Google Colab and GitHub\"\n",
        "          },\n",
        "          {\n",
        "              \"week\": \"Week 02 Assignment\",\n",
        "              \"grade\": 10,\n",
        "              \"expected_grade\": 10,\n",
        "              \"about_the_week\": \" Python as a calculator\"\n",
        "          },\n",
        "          {\n",
        "              \"week\": \"Week 03 Assignment\",\n",
        "              \"grade\": 6,\n",
        "              \"expected_grade\": 10,\n",
        "              \"about_the_week\": \"Coditional Statements\"\n",
        "        },\n",
        "          {\n",
        "              \"week\": \"Week 06 Assignment class quiz\",\n",
        "              \"grade\": 5,\n",
        "              \"expected_grade\": 20,\n",
        "              \"about_the_week\": \"Class quiz on docstrings and data types\"\n",
        "          }\n",
        "        ],\n",
        "        \"challenge\" : [\n",
        "            [\"week 3\", \"I had challenge with lace online conditinal structure\"],\n",
        "            [\"week 6 quiz\", \"I had a challenge with doc stirngs and the time provided wasn't enough.\"]\n",
        "        ]\n",
        "    }\n",
        "}\n",
        "\"\"\"\n",
        "\n"
      ]
    },
    {
      "cell_type": "markdown",
      "metadata": {
        "id": "l_PjKeH3bCz6"
      },
      "source": [
        "## 7.2 Do something with your JSON\n",
        "\n",
        "Now use Python code to do something with the Json above.  Turn it into English text, but make sure that you use at least one loop to access some dict or list content of your JSON.  Below, I've provided some basic code to read in the string above as JSON and return a Python object.  Your job is to work with that data structure and print out the important information like your name, email, and how you did on each assignment."
      ]
    },
    {
      "cell_type": "code",
      "execution_count": 61,
      "metadata": {
        "id": "J7JJfY2YbCz6",
        "outputId": "e3da5fad-cbdd-4aaf-e038-a1c87cd36f2e",
        "colab": {
          "base_uri": "https://localhost:8080/"
        }
      },
      "outputs": [
        {
          "output_type": "stream",
          "name": "stdout",
          "text": [
            "My name is Tanneru Naveen, my email address is tannerunaveen4@gmail.com and i was born in the year 1994\n",
            "\n",
            "My Week 01 Assignment: The week was about Interact with Google Colab and GitHub and with the assignments i scored  10 / 10\n",
            "My Week 02 Assignment: The week was about  Python as a calculator and with the assignments i scored  10 / 10\n",
            "My Week 03 Assignment: The week was about Coditional Statements and with the assignments i scored  6 / 10\n",
            "My Week 06 Assignment class quiz: The week was about Class quiz on docstrings and data types and with the assignments i scored  5 / 20\n",
            "\n",
            "\n",
            "My week 3 and i had a challenge as follows : I had challenge with lace online conditinal structure\n",
            "My week 6 quiz and i had a challenge as follows : I had a challenge with doc stirngs and the time provided wasn't enough.\n",
            "\n",
            "\n"
          ]
        }
      ],
      "source": [
        "import json\n",
        "\n",
        "info = json.loads(hds5210)\n",
        "#outputting my personal details\n",
        "my_name = info.get(\"my_info\").get(\"name\")\n",
        "my_email = info.get(\"my_info\").get(\"email\")\n",
        "my_yob = info.get(\"my_info\").get(\"year_of_birth\")\n",
        "print(f\"My name is {my_name}, my email address is {my_email} and i was born in the year {my_yob}\\n\")\n",
        "\n",
        "#displaying the scores and the abouts for each week\n",
        "for score in info.get('my_info').get(\"grades\"):\n",
        "  week = score.get(\"week\")\n",
        "  about = score.get(\"about_the_week\")\n",
        "  scores = score.get(\"grade\")\n",
        "  out_of = score.get(\"expected_grade\")\n",
        "  print(f\"My {week}: The week was about {about} and with the assignments i scored  {scores} / {out_of}\")\n",
        "\n",
        "print(\"\\n\")\n",
        "\n",
        "#out of the scores above it shows that i still went through some challenges evidenced with the coments below\n",
        "challenge_week = 0\n",
        "for challenge in info.get('my_info').get(\"challenge\"):\n",
        "  if challenge_week <= len(challenge):\n",
        "    challenge_week += 1\n",
        "    print(f\"My {challenge[0]} and i had a challenge as follows : {challenge[1]}\")\n",
        "\n",
        "\n",
        "print('\\n')\n",
        "\n",
        "# Put your code to output a paragraph of English text here"
      ]
    },
    {
      "cell_type": "markdown",
      "metadata": {
        "id": "I8eGRz2gbCz6"
      },
      "source": [
        "## 7.3 Reflect\n",
        "\n",
        "Write a paragraph on any reflections you have. Was this hard? Easy?  What parts were most challenging or easiest? What did you like or dislike about the assignment?  Share whatever important thoughts you have abou this assignment."
      ]
    },
    {
      "cell_type": "markdown",
      "metadata": {
        "id": "ZBUBhoImbCz7"
      },
      "source": [
        "Dear professor,\n",
        "\n",
        "I wanted to thank you for this wonderful learning experience so far. This has truly inspired my interest in programming, especially with Python, and motivated me to learn more about the field of health-related programming.\n",
        "\n",
        "I find it truly amazing how you can make complicated ideas simple, and I really value the way you teach. Even though I ran into some difficulties, particularly with docstrings, your explanations in class helped me understand it. I eventually figured out where the problem was, even though there were still other challenges, especially with conditional statements.\n",
        "\n",
        "With respect to the assignments, I am satisfied. They have been very beneficial and very resourceful. I'm grateful for that.\n",
        "\n",
        "To ensure accuracy, I would like to propose that you go through the corrections we submit to our git before submit your solutions.\n",
        "\n",
        "Once again, thank you for your dedication and excellent teaching.\n",
        "\n",
        "Tanneru Naveen\n"
      ]
    },
    {
      "cell_type": "markdown",
      "metadata": {
        "id": "1iRHeXh9bCz7"
      },
      "source": [
        "---\n",
        "\n",
        "# Example\n",
        "\n",
        "Below is an example of something similar, but this uses information my and my friend's kids instead of grades."
      ]
    },
    {
      "cell_type": "code",
      "execution_count": null,
      "metadata": {
        "id": "iZLMzZYAbCz7",
        "outputId": "6c12d214-ac7a-41dc-e57e-15784bce9dc4"
      },
      "outputs": [
        {
          "name": "stdout",
          "output_type": "stream",
          "text": [
            "Hi, my name is Paul. I've got 3 kids. Their names are Ellie, Ada, Teddy.\n",
            "My friend, Anny has 1 kids. That's fewer than me. Their names are 1\n"
          ]
        }
      ],
      "source": [
        "hds5210 = \"\"\"\n",
        "{\n",
        "    \"me\": {\n",
        "        \"name\": \"Paul\",\n",
        "        \"kids\": [\"Ellie\", \"Ada\", \"Teddy\"]\n",
        "    },\n",
        "    \"friend\": {\n",
        "        \"name\": \"Anny\",\n",
        "        \"kids\": [\"Abby\"]\n",
        "    }\n",
        "}\n",
        "\"\"\"\n",
        "\n",
        "import json\n",
        "\n",
        "info = json.loads(hds5210)\n",
        "\n",
        "me = info[\"me\"][\"name\"]\n",
        "my_kids_count = len(info[\"me\"][\"kids\"])\n",
        "kids_list = \", \".join(info[\"me\"][\"kids\"])\n",
        "friend = info[\"friend\"][\"name\"]\n",
        "friends_kid_count = len(info[\"friend\"][\"kids\"])\n",
        "friend_kids = \", \".join(info[\"friend\"][\"kids\"])\n",
        "compare = \"more\" if friends_kid_count > my_kids_count else \"fewer\"\n",
        "\n",
        "print(f\"Hi, my name is {me}. I've got {my_kids_count} kids. Their names are {kids_list}.\")\n",
        "print(f\"My friend, {friend} has {friends_kid_count} kids. That's {compare} than me. Their names are {friends_kid_count}\")"
      ]
    }
  ],
  "metadata": {
    "kernelspec": {
      "display_name": "Python 3",
      "language": "python",
      "name": "python3"
    },
    "language_info": {
      "codemirror_mode": {
        "name": "ipython",
        "version": 3
      },
      "file_extension": ".py",
      "mimetype": "text/x-python",
      "name": "python",
      "nbconvert_exporter": "python",
      "pygments_lexer": "ipython3",
      "version": "3.9.16"
    },
    "colab": {
      "provenance": []
    }
  },
  "nbformat": 4,
  "nbformat_minor": 0
}