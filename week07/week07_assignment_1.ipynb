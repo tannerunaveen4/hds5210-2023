{
  "cells": [
    {
      "cell_type": "markdown",
      "metadata": {
        "id": "ZRMhiI2PVMFf"
      },
      "source": [
        "# Week 7 Exercises\n",
        "\n",
        "_McKinney 6.1_\n",
        "\n",
        "\n",
        "This week has been all about getting information off the internet both in structured data formats (CSV, JSON, etc) as well as HTML.  More and more data is being made publicly available on the internet.  These data sources are especially useful for making connections between real-world operational projects and government reported data.\n",
        "\n",
        "Test your knowledge of the content from the lectures through the multiple choice questions below.\n",
        "\n",
        "---\n",
        "---"
      ]
    },
    {
      "cell_type": "markdown",
      "metadata": {
        "id": "iq3yADOOVMFi"
      },
      "source": [
        "## A: HealthData.gov\n",
        "\n",
        "Go to [healthdata.gov](http://www.healthdata.gov) and search \"all FDA recalls\" to see if you can finda any information about recalls from the Food & Drug Administration.  Use the information you find about this data source to answer the questions below.\n",
        "\n",
        "\n",
        "### 31.1 The All FDA Recalls data is available in what file type?\n",
        "\n",
        "> A) CSV\n",
        ">\n",
        "> B) Excel\n",
        ">\n",
        "> C) XML\n",
        ">\n",
        "> D) JSON"
      ]
    },
    {
      "cell_type": "code",
      "execution_count": 80,
      "metadata": {
        "id": "_0fkwdBAVMFi"
      },
      "outputs": [],
      "source": [
        "answers = {}\n",
        "answers[\"31.1\"] = \"C\""
      ]
    },
    {
      "cell_type": "markdown",
      "metadata": {
        "id": "_URjUFvWVMFk"
      },
      "source": [
        "### 31.2 Which of the following is a major challenge with this open government entry?\n",
        "\n",
        "> A) The data has not been updated in more than 10 years\n",
        ">\n",
        "> B) The link to access the actual data file is broken\n",
        ">\n",
        "> C) The data set has no listed owner\n",
        ">\n",
        "> D) The data is classified as secret"
      ]
    },
    {
      "cell_type": "code",
      "execution_count": 81,
      "metadata": {
        "id": "-bmoRjRZVMFk"
      },
      "outputs": [],
      "source": [
        "answers[\"31.2\"] = [\"A\", \"B\"]"
      ]
    },
    {
      "cell_type": "markdown",
      "metadata": {
        "id": "1cJXZPRaVMFl"
      },
      "source": [
        "## B: Kaggle.com\n",
        "\n",
        "Go to [Kaggle.com](http://kaggle.com) and search datasets for a dataset called **Student Mental health** that was created by the user **MD SHARIFUL ISLAM**, then answer the questions below regarding that entry.\n",
        "\n",
        "### 31.3 The data for this project has only 1 file. How many columns (features) does that dataset have?\n",
        "\n",
        "> A) 10\n",
        ">\n",
        "> B) 1\n",
        ">\n",
        "> C) 11\n",
        ">\n",
        "> D) 41\n"
      ]
    },
    {
      "cell_type": "code",
      "execution_count": 82,
      "metadata": {
        "id": "ZuoJsZATVMFl"
      },
      "outputs": [],
      "source": [
        "answers[\"31.3\"] = \"C\""
      ]
    },
    {
      "cell_type": "markdown",
      "metadata": {
        "id": "Yu_d-bEAVMFl"
      },
      "source": [
        "### 31.4 Which of the following columns are included in that dataset?\n",
        "\n",
        "> A) Marital Status\n",
        ">\n",
        "> B) Do you have Anxiety?\n",
        ">\n",
        "> C) Gender\n",
        ">\n",
        "> D) Race / Ethnicity"
      ]
    },
    {
      "cell_type": "code",
      "execution_count": 83,
      "metadata": {
        "id": "_GtQeUf4VMFl"
      },
      "outputs": [],
      "source": [
        "answers[\"31.4\"] = [\"A\",\"B\", \"C\"]"
      ]
    },
    {
      "cell_type": "markdown",
      "metadata": {
        "id": "XBETuzFdVMFm"
      },
      "source": [
        "## C: HTML\n",
        "\n",
        "### 32.1 HTML is a form of which other data format we've already discussed?\n",
        "\n",
        "> A) Binary\n",
        ">\n",
        "> B) eXtensible Markup Language\n",
        ">\n",
        "> C) JavaScript Object Notation\n",
        ">\n",
        "> D) HL7 FHIR\n"
      ]
    },
    {
      "cell_type": "code",
      "execution_count": 84,
      "metadata": {
        "id": "txlyBhQ3VMFm"
      },
      "outputs": [],
      "source": [
        "answers[\"32.1\"] = \"B\""
      ]
    },
    {
      "cell_type": "markdown",
      "metadata": {
        "id": "VShl97taVMFm"
      },
      "source": [
        "### 32.2 Which of the following is **not** a term associated with HTML?\n",
        "\n",
        "> A) dictionary\n",
        ">\n",
        "> B) tag\n",
        ">\n",
        "> C) element\n",
        ">\n",
        "> D) attribute"
      ]
    },
    {
      "cell_type": "code",
      "execution_count": 85,
      "metadata": {
        "id": "HoCxJ8R_VMFm"
      },
      "outputs": [],
      "source": [
        "answers[\"32.2\"] = \"A\""
      ]
    },
    {
      "cell_type": "markdown",
      "metadata": {
        "id": "Ry3ETnx4VMFn"
      },
      "source": [
        "### 32.3 Which of these packages can be used to extract a table of data from HTML using Python?\n",
        "\n",
        "> A) lxml\n",
        ">\n",
        "> B) BeautifulSoup\n",
        ">\n",
        "> C) Pandas\n",
        ">\n",
        "> D) All of the above"
      ]
    },
    {
      "cell_type": "code",
      "execution_count": 86,
      "metadata": {
        "id": "yo54ycS8VMFn"
      },
      "outputs": [],
      "source": [
        "answers[\"32.3\"] = \"D\""
      ]
    },
    {
      "cell_type": "markdown",
      "metadata": {
        "id": "ug-rcz2UVMFn"
      },
      "source": [
        "---\n",
        "\n",
        "Checking Your Work\n",
        "---\n",
        "\n",
        "After completing your work above and running each cell, you can check your answers by running the code below.\n",
        "\n",
        "The easiest way to do this is to use the `Kernel` -> `Restart Kernel and Run All Cells` menu option. This option restarts Python and runs every cell from top to bottom until it encounters an exception of some kind.  It will stop after running the cell below and outputing a summary of how many answers you have correct or incorrect.\n"
      ]
    },
    {
      "cell_type": "code",
      "execution_count": 87,
      "metadata": {
        "id": "V0XgiM1JVMFn",
        "outputId": "618ad27d-2ac0-4f3f-feb9-f0df9a5a6aac",
        "colab": {
          "base_uri": "https://localhost:8080/"
        }
      },
      "outputs": [
        {
          "output_type": "stream",
          "name": "stdout",
          "text": [
            "Requirement already satisfied: boto3 in /usr/local/lib/python3.10/dist-packages (1.28.63)\n",
            "Requirement already satisfied: botocore<1.32.0,>=1.31.63 in /usr/local/lib/python3.10/dist-packages (from boto3) (1.31.63)\n",
            "Requirement already satisfied: jmespath<2.0.0,>=0.7.1 in /usr/local/lib/python3.10/dist-packages (from boto3) (1.0.1)\n",
            "Requirement already satisfied: s3transfer<0.8.0,>=0.7.0 in /usr/local/lib/python3.10/dist-packages (from boto3) (0.7.0)\n",
            "Requirement already satisfied: python-dateutil<3.0.0,>=2.1 in /usr/local/lib/python3.10/dist-packages (from botocore<1.32.0,>=1.31.63->boto3) (2.8.2)\n",
            "Requirement already satisfied: urllib3<2.1,>=1.25.4 in /usr/local/lib/python3.10/dist-packages (from botocore<1.32.0,>=1.31.63->boto3) (2.0.6)\n",
            "Requirement already satisfied: six>=1.5 in /usr/local/lib/python3.10/dist-packages (from python-dateutil<3.0.0,>=2.1->botocore<1.32.0,>=1.31.63->boto3) (1.16.0)\n",
            "=============================================\n",
            "== RESULTS for tannerunaveen4@gmail.com\n",
            "=============================================\n",
            "   Q#               Yours  Correct?\n",
            " 31.1                   C        OK\n",
            " 31.2          ['A', 'B']        OK\n",
            " 31.3                   C        OK\n",
            " 31.4     ['A', 'B', 'C']        OK\n",
            " 32.1                   B        OK\n",
            " 32.2                   A        OK\n",
            " 32.3                   D        OK\n"
          ]
        }
      ],
      "source": [
        "!pip install boto3\n",
        "import httpimport\n",
        "with httpimport.remote_repo('https://gist.githubusercontent.com/paulboal/f14bead2d24fcb9499f4de4607908824/raw/4c3c0e75ea1510bb090bada047372954160e64d4'):\n",
        "    import checker\n",
        "\n",
        "checker.check_hds5210(answers, 'week07')"
      ]
    },
    {
      "cell_type": "markdown",
      "metadata": {
        "id": "Md4EZqr-VMFo"
      },
      "source": [
        "---\n",
        "\n",
        "## Check your work above\n",
        "\n",
        "If you didn't get them all correct, take a few minutes to think through those that aren't correct.\n",
        "\n",
        "\n",
        "## Submitting Your Work\n",
        "\n",
        "In order to submit your work, you'll need to save this notebook file back to GitHub.  To do that in Google Colab:\n",
        "1. File -> Save a Copy in GitHub\n",
        "2. Make sure your HDS5210 repository is selected\n",
        "3. Make sure the file name includes the week number like this: `week02/week02_assignment_1.ipynb`\n",
        "4. Add a commit message that means something\n",
        "\n",
        "**Be sure week names are lowercase and use a two digit week number!!**\n",
        "\n",
        "**Be sure you use the same file name provided by the instructor!!**\n",
        "\n"
      ]
    }
  ],
  "metadata": {
    "kernelspec": {
      "display_name": "Python 3",
      "language": "python",
      "name": "python3"
    },
    "language_info": {
      "codemirror_mode": {
        "name": "ipython",
        "version": 3
      },
      "file_extension": ".py",
      "mimetype": "text/x-python",
      "name": "python",
      "nbconvert_exporter": "python",
      "pygments_lexer": "ipython3",
      "version": "3.6.7"
    },
    "colab": {
      "provenance": [],
      "toc_visible": true
    }
  },
  "nbformat": 4,
  "nbformat_minor": 0
}