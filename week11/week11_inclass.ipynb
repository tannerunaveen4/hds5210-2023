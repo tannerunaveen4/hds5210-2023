{
  "cells": [
    {
      "cell_type": "markdown",
      "metadata": {
        "id": "ImBqOVv9MEyu"
      },
      "source": [
        "# Week 11 In-Class Challenge\n",
        "\n",
        "This week, we are doing an in-class exercise.  This will be worth 5 extra credit points for each team that creates a successful solution that follows the programming guidelines we've established this semester.  All the requirements for this programming challenge are described below.  If you complete them all successfully, you will receive 5 points.  If you do not, you will receive 0 points.\n",
        "\n",
        "Work as a group.  You will all receive the same number of points.\n",
        "\n",
        "## Requirements\n",
        "1. Your code must be a function named `week11()` that takes no parameters\n",
        "2. Your `week11()` function must read this CSV from the internet and use it as input: https://hds5210-data.s3.amazonaws.com/Section111ValidICD10-Jan2024.csv\n",
        "  * This file has three columns: CODE, SHORT DESCRIPTION, LONG DESCRIPTION, and NF EXCL\n",
        "  * The NF EXCL indicates that this code is excluded from a \"no fault\" list related to workers compensation insurance claims\n",
        "3. Your `week11()` function must use Pandas functions to generate new columns and filter the dataframe using the following rules\n",
        "   * Create a new column called \"CODE TYPE\" that contains only the first character of the CODE column. For example if CODE=\"A001\" then CODE TYPE=\"A\"\n",
        "   * Create a new column called \"CODE NUM\" that contains only the numeric part of the CODE column and make it numeric. For example if CODE=\"A001\" then CODE NUM=1\n",
        "   * Some CODE NUM portions cannot be converted directly because the have an \"X\" in them.  Convert that \"X\" to a \".\" and then conver the CODE NUM to a numeric value.  For example if CODE=\"E1037X1\" then CODE NUM=1037.1\n",
        "   * Filter your results to only include those rows where NF EXCL=\"Y\"\n",
        "   * Sort your results in ascending order by CODE NUM and then by CODE TYPE\n",
        "4. Use the \"checker\" in the last cell to confirm that your results are correct.  If the checker gives any errors, you will receive no credit.\n",
        "\n",
        "\n",
        "## Submitting\n",
        "In Canvas, you will find an assignment called Week 11 In Class Group Extra Credit.  It may be at this link: https://canvas.slu.edu/courses/42884/assignments/362720\n",
        "\n",
        "Submit the URL pointing to the file in GitHub you want me to review for your group submission.  Your URL should look something like this: https://github.com/paulboal/hds5210-2023/blob/main/week11/week11_inclass.ipynb\n",
        "\n",
        "\n",
        "## Scoring Rubric\n",
        "If your code passes my checker included at the bottom of this page, each person on your team will earn 5 points.  If you code does not pass my checker, you will earn 0 points. This is \"all or nothing\" extra credit.\n",
        "\n",
        "---"
      ]
    },
    {
      "cell_type": "code",
      "execution_count": 203,
      "metadata": {
        "id": "mEqoq_RkMEyy"
      },
      "outputs": [],
      "source": [
        "# I've provide you code here to start with.\n",
        "\n",
        "import pandas as pd\n",
        "\n",
        "def week11():\n",
        "    \"\"\"() -> pd.DataFrame\n",
        "\n",
        "    This function will process the file named in step 2 of the instructions above\n",
        "    using the rules in step 3 above.  It will return a dataframe that contains\n",
        "    the filtered, sorted, and enhanced results.\n",
        "\n",
        "    For my tests, I will validate the shape to start with.\n",
        "    If I have more time, I can figure out how to write tests for the other requirements.\n",
        "\n",
        "    >>> week11().shape\n",
        "    (1090, 6)\n",
        "    \"\"\"\n",
        "    hospitals = pd.read_csv('https://hds5210-data.s3.amazonaws.com/Section111ValidICD10-Jan2024.csv')\n",
        "    #Checking columns\n",
        "    #print(hospitals.columns)\n",
        "    #print(hospitals['CODE'])\n",
        "    #adding the new columns\n",
        "    hospitals['CODE TYPE']  = hospitals[\"CODE\"].apply(lambda x:x[:1] if x[:1].isdigit()== None else x[:1])\n",
        "    #print(hospitals['CODE TYPE'])\n",
        "    hospitals['CODE NUM']  = hospitals[\"CODE\"].apply(lambda x:x[1:] if (\"X\") in x[1:] == x[1:].replace(\"X\", \".\") else x[1:]).astype(float)\n",
        "    # print(hospitals['CODE NUM'])\n",
        "    # print(hospitals.columns)\n",
        "    #filtering the column 'NF EXCL\n",
        "    hospitals = hospitals.loc[hospitals['NF EXCL'] == \"Y\"]\n",
        "    #checking if the filtering occurs\n",
        "    #return hospitals.head()\n",
        "    sorted_code_num = hospitals.sort_values(by='CODE NUM', ascending=True)\n",
        "    #checking the sorting values\n",
        "    #return sorted_code_num.head()\n",
        "    sorted_code_type = sorted_code_num.sort_values(by='CODE TYPE', ascending=True)\n",
        "    #print(sorted_code_type.isnull().sum())\n",
        "    new_data = sorted_code_type.dropna()\n",
        "    #return sorted_code_type.head()\n",
        "    # Do your work here\n",
        "    # and return a final data frame\n",
        "\n",
        "    # This is a dummy piece of code that just passes my one doctest.\n",
        "    # Obviously, it won't pass the checker at the bottom.\n",
        "    # You'll want to delete this before you try checking your answer.\n",
        "    final_data = pd.DataFrame(new_data)\n",
        "    return final_data\n"
      ]
    },
    {
      "cell_type": "code",
      "source": [
        "week11()"
      ],
      "metadata": {
        "colab": {
          "base_uri": "https://localhost:8080/",
          "height": 53
        },
        "id": "ZbqkICY0Ne38",
        "outputId": "855c7eca-770e-4aab-d5af-eca963cef579"
      },
      "execution_count": 204,
      "outputs": [
        {
          "output_type": "execute_result",
          "data": {
            "text/plain": [
              "Empty DataFrame\n",
              "Columns: []\n",
              "Index: []"
            ],
            "text/html": [
              "\n",
              "  <div id=\"df-b494ffde-c58b-48a8-9473-6a4c0c5fd83e\" class=\"colab-df-container\">\n",
              "    <div>\n",
              "<style scoped>\n",
              "    .dataframe tbody tr th:only-of-type {\n",
              "        vertical-align: middle;\n",
              "    }\n",
              "\n",
              "    .dataframe tbody tr th {\n",
              "        vertical-align: top;\n",
              "    }\n",
              "\n",
              "    .dataframe thead th {\n",
              "        text-align: right;\n",
              "    }\n",
              "</style>\n",
              "<table border=\"1\" class=\"dataframe\">\n",
              "  <thead>\n",
              "    <tr style=\"text-align: right;\">\n",
              "      <th></th>\n",
              "    </tr>\n",
              "  </thead>\n",
              "  <tbody>\n",
              "  </tbody>\n",
              "</table>\n",
              "</div>\n",
              "    <div class=\"colab-df-buttons\">\n",
              "\n",
              "  <div class=\"colab-df-container\">\n",
              "    <button class=\"colab-df-convert\" onclick=\"convertToInteractive('df-b494ffde-c58b-48a8-9473-6a4c0c5fd83e')\"\n",
              "            title=\"Convert this dataframe to an interactive table.\"\n",
              "            style=\"display:none;\">\n",
              "\n",
              "  <svg xmlns=\"http://www.w3.org/2000/svg\" height=\"24px\" viewBox=\"0 -960 960 960\">\n",
              "    <path d=\"M120-120v-720h720v720H120Zm60-500h600v-160H180v160Zm220 220h160v-160H400v160Zm0 220h160v-160H400v160ZM180-400h160v-160H180v160Zm440 0h160v-160H620v160ZM180-180h160v-160H180v160Zm440 0h160v-160H620v160Z\"/>\n",
              "  </svg>\n",
              "    </button>\n",
              "\n",
              "  <style>\n",
              "    .colab-df-container {\n",
              "      display:flex;\n",
              "      gap: 12px;\n",
              "    }\n",
              "\n",
              "    .colab-df-convert {\n",
              "      background-color: #E8F0FE;\n",
              "      border: none;\n",
              "      border-radius: 50%;\n",
              "      cursor: pointer;\n",
              "      display: none;\n",
              "      fill: #1967D2;\n",
              "      height: 32px;\n",
              "      padding: 0 0 0 0;\n",
              "      width: 32px;\n",
              "    }\n",
              "\n",
              "    .colab-df-convert:hover {\n",
              "      background-color: #E2EBFA;\n",
              "      box-shadow: 0px 1px 2px rgba(60, 64, 67, 0.3), 0px 1px 3px 1px rgba(60, 64, 67, 0.15);\n",
              "      fill: #174EA6;\n",
              "    }\n",
              "\n",
              "    .colab-df-buttons div {\n",
              "      margin-bottom: 4px;\n",
              "    }\n",
              "\n",
              "    [theme=dark] .colab-df-convert {\n",
              "      background-color: #3B4455;\n",
              "      fill: #D2E3FC;\n",
              "    }\n",
              "\n",
              "    [theme=dark] .colab-df-convert:hover {\n",
              "      background-color: #434B5C;\n",
              "      box-shadow: 0px 1px 3px 1px rgba(0, 0, 0, 0.15);\n",
              "      filter: drop-shadow(0px 1px 2px rgba(0, 0, 0, 0.3));\n",
              "      fill: #FFFFFF;\n",
              "    }\n",
              "  </style>\n",
              "\n",
              "    <script>\n",
              "      const buttonEl =\n",
              "        document.querySelector('#df-b494ffde-c58b-48a8-9473-6a4c0c5fd83e button.colab-df-convert');\n",
              "      buttonEl.style.display =\n",
              "        google.colab.kernel.accessAllowed ? 'block' : 'none';\n",
              "\n",
              "      async function convertToInteractive(key) {\n",
              "        const element = document.querySelector('#df-b494ffde-c58b-48a8-9473-6a4c0c5fd83e');\n",
              "        const dataTable =\n",
              "          await google.colab.kernel.invokeFunction('convertToInteractive',\n",
              "                                                    [key], {});\n",
              "        if (!dataTable) return;\n",
              "\n",
              "        const docLinkHtml = 'Like what you see? Visit the ' +\n",
              "          '<a target=\"_blank\" href=https://colab.research.google.com/notebooks/data_table.ipynb>data table notebook</a>'\n",
              "          + ' to learn more about interactive tables.';\n",
              "        element.innerHTML = '';\n",
              "        dataTable['output_type'] = 'display_data';\n",
              "        await google.colab.output.renderOutput(dataTable, element);\n",
              "        const docLink = document.createElement('div');\n",
              "        docLink.innerHTML = docLinkHtml;\n",
              "        element.appendChild(docLink);\n",
              "      }\n",
              "    </script>\n",
              "  </div>\n",
              "\n",
              "    </div>\n",
              "  </div>\n"
            ]
          },
          "metadata": {},
          "execution_count": 204
        }
      ]
    },
    {
      "cell_type": "markdown",
      "metadata": {
        "id": "cytrVKAJMEy1"
      },
      "source": [
        "---\n",
        "\n",
        "## You can run your doctests this way"
      ]
    },
    {
      "cell_type": "code",
      "execution_count": 205,
      "metadata": {
        "colab": {
          "base_uri": "https://localhost:8080/"
        },
        "id": "4JOgH3s9MEy2",
        "outputId": "c89d854c-277b-41ce-a632-62faa89e1899"
      },
      "outputs": [
        {
          "output_type": "stream",
          "name": "stdout",
          "text": [
            "Finding tests in NoName\n",
            "Trying:\n",
            "    week11().shape\n",
            "Expecting:\n",
            "    (1090, 6)\n",
            "**********************************************************************\n",
            "File \"__main__\", line 15, in NoName\n",
            "Failed example:\n",
            "    week11().shape\n",
            "Expected:\n",
            "    (1090, 6)\n",
            "Got:\n",
            "    (0, 0)\n"
          ]
        }
      ],
      "source": [
        "from doctest import run_docstring_examples\n",
        "run_docstring_examples(week11, globs=globals(), verbose=True)"
      ]
    },
    {
      "cell_type": "markdown",
      "metadata": {
        "id": "8mLKbSf5MEy3"
      },
      "source": [
        "---\n",
        "\n",
        "## Use this code to check your output!\n",
        "\n",
        "If you get something other than `\"You did it!!\"` then you still have work to do on your solution.\n",
        "\n",
        "The feedback provided should give you some hints as to what you haven't done correctly in filtering and organizing the data.\n",
        "\n",
        "You can run this as many times as you want.  I'm not recording who is trying what and if you're getting the right answers or not."
      ]
    },
    {
      "cell_type": "code",
      "execution_count": 3,
      "metadata": {
        "colab": {
          "base_uri": "https://localhost:8080/"
        },
        "id": "yYsjqORLMEy3",
        "outputId": "9925b409-9265-42cc-9d91-e10406f35dac"
      },
      "outputs": [
        {
          "output_type": "stream",
          "name": "stdout",
          "text": [
            "200\n",
            "\"It looks like you don't have the right columns. I want this: ['CODE', 'SHORT DESCRIPTION', 'LONG DESCRIPTION', 'NF EXCL', 'CODE TYPE', 'CODE NUM']. You gave me this: ['0', '1', '2', '3', '4', '5']\"\n"
          ]
        }
      ],
      "source": [
        "import requests\n",
        "\n",
        "r = requests.post('https://rln3ys6dciybh6cydvapszesna0oxcyn.lambda-url.us-east-1.on.aws/',\n",
        "                  headers={\"content-type\": \"application/json\"},\n",
        "                  data=week11().to_json(orient='records'))\n",
        "\n",
        "print(r.status_code)\n",
        "print(r.text)"
      ]
    }
  ],
  "metadata": {
    "kernelspec": {
      "display_name": ".venv",
      "language": "python",
      "name": "python3"
    },
    "language_info": {
      "codemirror_mode": {
        "name": "ipython",
        "version": 3
      },
      "file_extension": ".py",
      "mimetype": "text/x-python",
      "name": "python",
      "nbconvert_exporter": "python",
      "pygments_lexer": "ipython3",
      "version": "3.9.16"
    },
    "colab": {
      "provenance": []
    }
  },
  "nbformat": 4,
  "nbformat_minor": 0
}