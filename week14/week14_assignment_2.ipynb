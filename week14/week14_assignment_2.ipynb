{
  "cells": [
    {
      "cell_type": "markdown",
      "metadata": {
        "id": "view-in-github",
        "colab_type": "text"
      },
      "source": [
        "<a href=\"https://colab.research.google.com/github/tannerunaveen4/hds5210-2023/blob/main/week14/week14_assignment_2.ipynb\" target=\"_parent\"><img src=\"https://colab.research.google.com/assets/colab-badge.svg\" alt=\"Open In Colab\"/></a>"
      ]
    },
    {
      "cell_type": "markdown",
      "metadata": {
        "nbgrader": {
          "grade": false,
          "grade_id": "intro",
          "locked": true,
          "schema_version": 1,
          "solution": false
        },
        "id": "4bQ28GqWAwpe"
      },
      "source": [
        "# Working with multiple data sets\n",
        "\n",
        "There are two data files that we'll be working with for this week's assignment.  They are described below.  Load those data files in with Pandas and then work to answering each of the questions below.  All of these files are found in our usual s3 bucket: `https://hds5210-data.s3.amazonaws.com`\n",
        "\n",
        "## npidata.csv\n",
        "\n",
        "This file is basic information about every healthcare provider in the US.  It has one row for each NPI (National Provider Identifier).  It contains information such as the provider's name and address.\n",
        "\n",
        "* https://hds5210-data.s3.amazonaws.com/npidata.csv\n",
        "\n",
        "\n",
        "## cmsYYYY.csv\n",
        "\n",
        "These are files about what kinds of procedures and patients providers in the US are serving under CMS programs, Medicare and Medicaid.  Each contains various statistics about providers over the course of a year.  There are three of these, for the years 2014, 2015, and 2016.  These files, however, don't contain information about the provider such as where the provider is located.\n",
        "\n",
        "* https://hds5210-data.s3.amazonaws.com/cms2014.csv\n",
        "* https://hds5210-data.s3.amazonaws.com/cms2015.csv\n",
        "* https://hds5210-data.s3.amazonaws.com/cms2016.csv\n",
        "\n",
        "## Our Goals\n",
        "\n",
        "For this assignment, we're going to want to compute some statistics based on the data in the **cms** files, but aggregate that data based on information in the **npidata** file.  As in last week's assignment, you'll need to store your answers in a variable called `answer` at the end of each step."
      ]
    },
    {
      "cell_type": "code",
      "execution_count": 222,
      "metadata": {
        "nbgrader": {
          "grade": false,
          "grade_id": "import",
          "locked": true,
          "schema_version": 1,
          "solution": false
        },
        "id": "B2WNtqb1Awpg"
      },
      "outputs": [],
      "source": [
        "import pandas as pd"
      ]
    },
    {
      "cell_type": "markdown",
      "metadata": {
        "nbgrader": {
          "grade": false,
          "grade_id": "01-intro",
          "locked": true,
          "schema_version": 1,
          "solution": false
        },
        "id": "sudfMt65Awpg"
      },
      "source": [
        "## Part 1\n",
        "\n",
        "In this first step, we'll need to merge together all of the **cms** files into a single dataframe.  Be careful that these files might not be identical, so you'll have to look a little bit to figure out how to merge them.\n",
        "\n",
        "As you are merging them, make sure that you retain information about which file (i.e. which year) the data came from.  Call that new columns `year`.\n",
        "\n",
        "In your `answer` variable, provide a complete data frame that contains all of the rows and columns from the **cms** files, plus an additional column to store the year/file that particular row came from.\n",
        "\n",
        "The assertion tests will give you a good idea as to if you're merging the files correctly."
      ]
    },
    {
      "cell_type": "code",
      "source": [
        "cms2014 = pd.read_csv(\"https://hds5210-data.s3.amazonaws.com/cms2014.csv\")\n",
        "#cms2014.shape #(63093, 59)\n",
        "cms2014.columns"
      ],
      "metadata": {
        "id": "DWhspXak0OX4",
        "outputId": "cccf13c9-19d1-47a3-f629-4a6241d63f06",
        "colab": {
          "base_uri": "https://localhost:8080/"
        }
      },
      "execution_count": 223,
      "outputs": [
        {
          "output_type": "execute_result",
          "data": {
            "text/plain": [
              "Index(['nbr', 'npi', 'provider_type', 'medicare_participation_indicator',\n",
              "       'number_of_hcpcs', 'total_services', 'total_unique_benes',\n",
              "       'total_submitted_chrg_amt', 'total_medicare_allowed_amt',\n",
              "       'total_medicare_payment_amt', 'total_medicare_stnd_amt',\n",
              "       'drug_suppress_indicator', 'number_of_drug_hcpcs',\n",
              "       'total_drug_services', 'total_drug_unique_benes',\n",
              "       'total_drug_submitted_chrg_amt', 'total_drug_medicare_allowed_amt',\n",
              "       'total_drug_medicare_payment_amt', 'total_drug_medicare_stnd_amt',\n",
              "       'med_suppress_indicator', 'number_of_med_hcpcs', 'total_med_services',\n",
              "       'total_med_unique_benes', 'total_med_submitted_chrg_amt',\n",
              "       'total_med_medicare_allowed_amt', 'total_med_medicare_payment_amt',\n",
              "       'total_med_medicare_stnd_amt', 'beneficiary_average_age',\n",
              "       'beneficiary_age_less_65_count', 'beneficiary_age_65_74_count',\n",
              "       'beneficiary_age_75_84_count', 'beneficiary_age_greater_84_count',\n",
              "       'beneficiary_female_count', 'beneficiary_male_count',\n",
              "       'beneficiary_race_white_count', 'beneficiary_race_black_count',\n",
              "       'beneficiary_race_api_count', 'beneficiary_race_hispanic_count',\n",
              "       'beneficiary_race_natind_count', 'beneficiary_race_other_count',\n",
              "       'beneficiary_nondual_count', 'beneficiary_dual_count',\n",
              "       'beneficiary_cc_afib_percent', 'beneficiary_cc_alzrdsd_percent',\n",
              "       'beneficiary_cc_asthma_percent', 'beneficiary_cc_cancer_percent',\n",
              "       'beneficiary_cc_chf_percent', 'beneficiary_cc_ckd_percent',\n",
              "       'beneficiary_cc_copd_percent', 'beneficiary_cc_depr_percent',\n",
              "       'beneficiary_cc_diab_percent', 'beneficiary_cc_hyperl_percent',\n",
              "       'beneficiary_cc_hypert_percent', 'beneficiary_cc_ihd_percent',\n",
              "       'beneficiary_cc_ost_percent', 'beneficiary_cc_raoa_percent',\n",
              "       'beneficiary_cc_schiot_percent', 'beneficiary_cc_strk_percent',\n",
              "       'Beneficiary_Average_Risk_Score'],\n",
              "      dtype='object')"
            ]
          },
          "metadata": {},
          "execution_count": 223
        }
      ]
    },
    {
      "cell_type": "code",
      "source": [
        "cms2015 = pd.read_csv(\"https://hds5210-data.s3.amazonaws.com/cms2015.csv\")\n",
        "#cms2015.shape #(64540, 59)\n",
        "cms2015.columns"
      ],
      "metadata": {
        "id": "ja33zPbx0WXn",
        "outputId": "d6a42063-f24c-450a-ecdd-440d38da730b",
        "colab": {
          "base_uri": "https://localhost:8080/"
        }
      },
      "execution_count": 224,
      "outputs": [
        {
          "output_type": "execute_result",
          "data": {
            "text/plain": [
              "Index(['nbr', 'npi', 'provider_type', 'medicare_participation_indicator',\n",
              "       'number_of_hcpcs', 'total_services', 'total_unique_benes',\n",
              "       'total_submitted_chrg_amt', 'total_medicare_allowed_amt',\n",
              "       'total_medicare_payment_amt', 'total_medicare_stnd_amt',\n",
              "       'drug_suppress_indicator', 'number_of_drug_hcpcs',\n",
              "       'total_drug_services', 'total_drug_unique_benes',\n",
              "       'total_drug_submitted_chrg_amt', 'total_drug_medicare_allowed_amt',\n",
              "       'total_drug_medicare_payment_amt', 'total_drug_medicare_stnd_amt',\n",
              "       'med_suppress_indicator', 'number_of_med_hcpcs', 'total_med_services',\n",
              "       'total_med_unique_benes', 'total_med_submitted_chrg_amt',\n",
              "       'total_med_medicare_allowed_amt', 'total_med_medicare_payment_amt',\n",
              "       'total_med_medicare_stnd_amt', 'beneficiary_average_age',\n",
              "       'beneficiary_age_less_65_count', 'beneficiary_age_65_74_count',\n",
              "       'beneficiary_age_75_84_count', 'beneficiary_age_greater_84_count',\n",
              "       'beneficiary_female_count', 'beneficiary_male_count',\n",
              "       'beneficiary_race_white_count', 'beneficiary_race_black_count',\n",
              "       'beneficiary_race_api_count', 'beneficiary_race_hispanic_count',\n",
              "       'beneficiary_race_natind_count', 'beneficiary_race_other_count',\n",
              "       'beneficiary_nondual_count', 'beneficiary_dual_count',\n",
              "       'beneficiary_cc_afib_percent', 'beneficiary_cc_alzrdsd_percent',\n",
              "       'beneficiary_cc_asthma_percent', 'beneficiary_cc_cancer_percent',\n",
              "       'beneficiary_cc_chf_percent', 'beneficiary_cc_ckd_percent',\n",
              "       'beneficiary_cc_copd_percent', 'beneficiary_cc_depr_percent',\n",
              "       'beneficiary_cc_diab_percent', 'beneficiary_cc_hyperl_percent',\n",
              "       'beneficiary_cc_hypert_percent', 'beneficiary_cc_ihd_percent',\n",
              "       'beneficiary_cc_ost_percent', 'beneficiary_cc_raoa_percent',\n",
              "       'beneficiary_cc_schiot_percent', 'beneficiary_cc_strk_percent',\n",
              "       'Beneficiary_Average_Risk_Score'],\n",
              "      dtype='object')"
            ]
          },
          "metadata": {},
          "execution_count": 224
        }
      ]
    },
    {
      "cell_type": "code",
      "source": [
        "cms2016 = pd.read_csv(\"https://hds5210-data.s3.amazonaws.com/cms2016.csv\")\n",
        "#cms2016.shape #(66229, 59)\n",
        "cms2016.columns"
      ],
      "metadata": {
        "id": "Tk_jSjvM00b1",
        "outputId": "be3703d8-680b-4b16-8771-bcf492e722cb",
        "colab": {
          "base_uri": "https://localhost:8080/"
        }
      },
      "execution_count": 225,
      "outputs": [
        {
          "output_type": "execute_result",
          "data": {
            "text/plain": [
              "Index(['nbr', 'NPI', 'PROVIDER_TYPE', 'MEDICARE_PARTICIPATION_INDICATOR',\n",
              "       'NUMBER_OF_HCPCS', 'TOTAL_SERVICES', 'TOTAL_UNIQUE_BENES',\n",
              "       'TOTAL_SUBMITTED_CHRG_AMT', 'TOTAL_MEDICARE_ALLOWED_AMT',\n",
              "       'TOTAL_MEDICARE_PAYMENT_AMT', 'TOTAL_MEDICARE_STND_AMT',\n",
              "       'DRUG_SUPPRESS_INDICATOR', 'NUMBER_OF_DRUG_HCPCS',\n",
              "       'TOTAL_DRUG_SERVICES', 'TOTAL_DRUG_UNIQUE_BENES',\n",
              "       'TOTAL_DRUG_SUBMITTED_CHRG_AMT', 'TOTAL_DRUG_MEDICARE_ALLOWED_AMT',\n",
              "       'TOTAL_DRUG_MEDICARE_PAYMENT_AMT', 'TOTAL_DRUG_MEDICARE_STND_AMT',\n",
              "       'MED_SUPPRESS_INDICATOR', 'NUMBER_OF_MED_HCPCS', 'TOTAL_MED_SERVICES',\n",
              "       'TOTAL_MED_UNIQUE_BENES', 'TOTAL_MED_SUBMITTED_CHRG_AMT',\n",
              "       'TOTAL_MED_MEDICARE_ALLOWED_AMT', 'TOTAL_MED_MEDICARE_PAYMENT_AMT',\n",
              "       'TOTAL_MED_MEDICARE_STND_AMT', 'BENEFICIARY_AVERAGE_AGE',\n",
              "       'BENEFICIARY_AGE_LESS_65_COUNT', 'BENEFICIARY_AGE_65_74_COUNT',\n",
              "       'BENEFICIARY_AGE_75_84_COUNT', 'BENEFICIARY_AGE_GREATER_84_COUNT',\n",
              "       'BENEFICIARY_FEMALE_COUNT', 'BENEFICIARY_MALE_COUNT',\n",
              "       'BENEFICIARY_RACE_WHITE_COUNT', 'BENEFICIARY_RACE_BLACK_COUNT',\n",
              "       'BENEFICIARY_RACE_API_COUNT', 'BENEFICIARY_RACE_HISPANIC_COUNT',\n",
              "       'BENEFICIARY_RACE_NATIND_COUNT', 'BENEFICIARY_RACE_OTHER_COUNT',\n",
              "       'BENEFICIARY_NONDUAL_COUNT', 'BENEFICIARY_DUAL_COUNT',\n",
              "       'BENEFICIARY_CC_AFIB_PERCENT', 'BENEFICIARY_CC_ALZRDSD_PERCENT',\n",
              "       'BENEFICIARY_CC_ASTHMA_PERCENT', 'BENEFICIARY_CC_CANCER_PERCENT',\n",
              "       'BENEFICIARY_CC_CHF_PERCENT', 'BENEFICIARY_CC_CKD_PERCENT',\n",
              "       'BENEFICIARY_CC_COPD_PERCENT', 'BENEFICIARY_CC_DEPR_PERCENT',\n",
              "       'BENEFICIARY_CC_DIAB_PERCENT', 'BENEFICIARY_CC_HYPERL_PERCENT',\n",
              "       'BENEFICIARY_CC_HYPERT_PERCENT', 'BENEFICIARY_CC_IHD_PERCENT',\n",
              "       'BENEFICIARY_CC_OST_PERCENT', 'BENEFICIARY_CC_RAOA_PERCENT',\n",
              "       'BENEFICIARY_CC_SCHIOT_PERCENT', 'BENEFICIARY_CC_STRK_PERCENT',\n",
              "       'BENEFICIARY_AVERAGE_RISK_SCORE'],\n",
              "      dtype='object')"
            ]
          },
          "metadata": {},
          "execution_count": 225
        }
      ]
    },
    {
      "cell_type": "code",
      "source": [
        "cms2016.columns = cms2016.columns.str.lower() if not all(cms2016.columns == cms2016.columns.str.lower()) else cms2016.columns\n",
        "cms2014.columns = cms2014.columns.str.lower() if not all(cms2014.columns == cms2016.columns.str.lower()) else cms2014.columns\n",
        "cms2015.columns = cms2015.columns.str.lower() if not all(cms2015.columns == cms2016.columns.str.lower()) else cms2015.columns\n",
        "cms2016.columns"
      ],
      "metadata": {
        "id": "S9lSTiSKJuXE",
        "outputId": "9f1f80c9-be16-4b6e-9123-f703e9794ebc",
        "colab": {
          "base_uri": "https://localhost:8080/"
        }
      },
      "execution_count": 226,
      "outputs": [
        {
          "output_type": "execute_result",
          "data": {
            "text/plain": [
              "Index(['nbr', 'npi', 'provider_type', 'medicare_participation_indicator',\n",
              "       'number_of_hcpcs', 'total_services', 'total_unique_benes',\n",
              "       'total_submitted_chrg_amt', 'total_medicare_allowed_amt',\n",
              "       'total_medicare_payment_amt', 'total_medicare_stnd_amt',\n",
              "       'drug_suppress_indicator', 'number_of_drug_hcpcs',\n",
              "       'total_drug_services', 'total_drug_unique_benes',\n",
              "       'total_drug_submitted_chrg_amt', 'total_drug_medicare_allowed_amt',\n",
              "       'total_drug_medicare_payment_amt', 'total_drug_medicare_stnd_amt',\n",
              "       'med_suppress_indicator', 'number_of_med_hcpcs', 'total_med_services',\n",
              "       'total_med_unique_benes', 'total_med_submitted_chrg_amt',\n",
              "       'total_med_medicare_allowed_amt', 'total_med_medicare_payment_amt',\n",
              "       'total_med_medicare_stnd_amt', 'beneficiary_average_age',\n",
              "       'beneficiary_age_less_65_count', 'beneficiary_age_65_74_count',\n",
              "       'beneficiary_age_75_84_count', 'beneficiary_age_greater_84_count',\n",
              "       'beneficiary_female_count', 'beneficiary_male_count',\n",
              "       'beneficiary_race_white_count', 'beneficiary_race_black_count',\n",
              "       'beneficiary_race_api_count', 'beneficiary_race_hispanic_count',\n",
              "       'beneficiary_race_natind_count', 'beneficiary_race_other_count',\n",
              "       'beneficiary_nondual_count', 'beneficiary_dual_count',\n",
              "       'beneficiary_cc_afib_percent', 'beneficiary_cc_alzrdsd_percent',\n",
              "       'beneficiary_cc_asthma_percent', 'beneficiary_cc_cancer_percent',\n",
              "       'beneficiary_cc_chf_percent', 'beneficiary_cc_ckd_percent',\n",
              "       'beneficiary_cc_copd_percent', 'beneficiary_cc_depr_percent',\n",
              "       'beneficiary_cc_diab_percent', 'beneficiary_cc_hyperl_percent',\n",
              "       'beneficiary_cc_hypert_percent', 'beneficiary_cc_ihd_percent',\n",
              "       'beneficiary_cc_ost_percent', 'beneficiary_cc_raoa_percent',\n",
              "       'beneficiary_cc_schiot_percent', 'beneficiary_cc_strk_percent',\n",
              "       'beneficiary_average_risk_score'],\n",
              "      dtype='object')"
            ]
          },
          "metadata": {},
          "execution_count": 226
        }
      ]
    },
    {
      "cell_type": "code",
      "source": [
        "cms2016.shape"
      ],
      "metadata": {
        "id": "A4Vy-jGHJy_x",
        "outputId": "0c4d5e2b-7e5e-4aa5-e7c2-7bb34830b379",
        "colab": {
          "base_uri": "https://localhost:8080/"
        }
      },
      "execution_count": 227,
      "outputs": [
        {
          "output_type": "execute_result",
          "data": {
            "text/plain": [
              "(66229, 59)"
            ]
          },
          "metadata": {},
          "execution_count": 227
        }
      ]
    },
    {
      "cell_type": "code",
      "source": [
        "cms2014['year'] = 2014\n",
        "cms2015['year'] = 2015\n",
        "cms2016['year'] = 2016"
      ],
      "metadata": {
        "id": "XlsVJN1_4GM5"
      },
      "execution_count": 228,
      "outputs": []
    },
    {
      "cell_type": "code",
      "source": [
        "cms2014.shape"
      ],
      "metadata": {
        "id": "le-XkUhCLX_V",
        "outputId": "4ad02735-458c-4edd-876b-9a8e5e420760",
        "colab": {
          "base_uri": "https://localhost:8080/"
        }
      },
      "execution_count": 229,
      "outputs": [
        {
          "output_type": "execute_result",
          "data": {
            "text/plain": [
              "(63093, 60)"
            ]
          },
          "metadata": {},
          "execution_count": 229
        }
      ]
    },
    {
      "cell_type": "code",
      "source": [
        "cms2015.shape"
      ],
      "metadata": {
        "id": "UL00ehOqLcvX",
        "outputId": "9b752554-a05c-440b-aa1e-b6fcb1143ecd",
        "colab": {
          "base_uri": "https://localhost:8080/"
        }
      },
      "execution_count": 230,
      "outputs": [
        {
          "output_type": "execute_result",
          "data": {
            "text/plain": [
              "(64540, 60)"
            ]
          },
          "metadata": {},
          "execution_count": 230
        }
      ]
    },
    {
      "cell_type": "code",
      "source": [
        "merged = pd.concat([cms2014, cms2015], keys=['2014', '2015'])\n",
        "merged.shape"
      ],
      "metadata": {
        "id": "TzzkR2AC3tSX",
        "outputId": "49f096c6-cfb1-4924-aef5-301948b2146c",
        "colab": {
          "base_uri": "https://localhost:8080/"
        }
      },
      "execution_count": 231,
      "outputs": [
        {
          "output_type": "execute_result",
          "data": {
            "text/plain": [
              "(127633, 60)"
            ]
          },
          "metadata": {},
          "execution_count": 231
        }
      ]
    },
    {
      "cell_type": "code",
      "execution_count": 232,
      "metadata": {
        "nbgrader": {
          "grade": false,
          "grade_id": "01-solution",
          "locked": false,
          "schema_version": 1,
          "solution": true
        },
        "id": "NZgoS86eAwpg",
        "outputId": "0b9d38d7-6c20-4994-aba8-6b21bfdd6fab",
        "colab": {
          "base_uri": "https://localhost:8080/"
        }
      },
      "outputs": [
        {
          "output_type": "execute_result",
          "data": {
            "text/plain": [
              "(193862, 60)"
            ]
          },
          "metadata": {},
          "execution_count": 232
        }
      ],
      "source": [
        "answer = pd.concat([cms2014, cms2015, cms2016], keys=['2014', '2015', '2016'])\n",
        "answer.shape\n",
        "### SOLUTION"
      ]
    },
    {
      "cell_type": "code",
      "execution_count": 233,
      "metadata": {
        "nbgrader": {
          "grade": true,
          "grade_id": "01-tests",
          "locked": true,
          "points": 5,
          "schema_version": 1,
          "solution": false
        },
        "id": "Z52BgWZXAwpg"
      },
      "outputs": [],
      "source": [
        "assert(answer.shape == (193862, 60))\n",
        "assert(list(answer['year'].unique()) == [2014,2015,2016])\n",
        "assert(set(answer.columns.str.lower()) == set(['year', 'nbr', 'npi', 'provider_type',\n",
        "       'medicare_participation_indicator', 'number_of_hcpcs', 'total_services',\n",
        "       'total_unique_benes', 'total_submitted_chrg_amt',\n",
        "       'total_medicare_allowed_amt', 'total_medicare_payment_amt',\n",
        "       'total_medicare_stnd_amt', 'drug_suppress_indicator',\n",
        "       'number_of_drug_hcpcs', 'total_drug_services',\n",
        "       'total_drug_unique_benes', 'total_drug_submitted_chrg_amt',\n",
        "       'total_drug_medicare_allowed_amt', 'total_drug_medicare_payment_amt',\n",
        "       'total_drug_medicare_stnd_amt', 'med_suppress_indicator',\n",
        "       'number_of_med_hcpcs', 'total_med_services', 'total_med_unique_benes',\n",
        "       'total_med_submitted_chrg_amt', 'total_med_medicare_allowed_amt',\n",
        "       'total_med_medicare_payment_amt', 'total_med_medicare_stnd_amt',\n",
        "       'beneficiary_average_age', 'beneficiary_age_less_65_count',\n",
        "       'beneficiary_age_65_74_count', 'beneficiary_age_75_84_count',\n",
        "       'beneficiary_age_greater_84_count', 'beneficiary_female_count',\n",
        "       'beneficiary_male_count', 'beneficiary_race_white_count',\n",
        "       'beneficiary_race_black_count', 'beneficiary_race_api_count',\n",
        "       'beneficiary_race_hispanic_count', 'beneficiary_race_natind_count',\n",
        "       'beneficiary_race_other_count', 'beneficiary_nondual_count',\n",
        "       'beneficiary_dual_count', 'beneficiary_cc_afib_percent',\n",
        "       'beneficiary_cc_alzrdsd_percent', 'beneficiary_cc_asthma_percent',\n",
        "       'beneficiary_cc_cancer_percent', 'beneficiary_cc_chf_percent',\n",
        "       'beneficiary_cc_ckd_percent', 'beneficiary_cc_copd_percent',\n",
        "       'beneficiary_cc_depr_percent', 'beneficiary_cc_diab_percent',\n",
        "       'beneficiary_cc_hyperl_percent', 'beneficiary_cc_hypert_percent',\n",
        "       'beneficiary_cc_ihd_percent', 'beneficiary_cc_ost_percent',\n",
        "       'beneficiary_cc_raoa_percent', 'beneficiary_cc_schiot_percent',\n",
        "       'beneficiary_cc_strk_percent', 'beneficiary_average_risk_score']))"
      ]
    },
    {
      "cell_type": "markdown",
      "metadata": {
        "nbgrader": {
          "grade": false,
          "grade_id": "02-intro",
          "locked": true,
          "schema_version": 1,
          "solution": false
        },
        "id": "77sjXAf2Awpg"
      },
      "source": [
        "## Part 2\n",
        "\n",
        "In this next part, we're going to join the **cms** data with the provider information in the **https://hds5210-data.s3.amazonaws.com/npidata.csv** file.  In this join, we don't want to lose any records from the **cms** files, even if no matching provider exists in the **npidata** file.  However, we don't care about any providers from the **npidata** file that don't have records in the **cms** files.  Those providers can be ignored.\n",
        "\n",
        "Join the data files together to create one unified data frame called `answer`.  This dataframe should have all the columns from both **cms** and **npidata** files, joined together using the `npi` column.  \n",
        "\n",
        "Note that `npi` is unique in the **npidata** file."
      ]
    },
    {
      "cell_type": "code",
      "source": [
        "npdata = pd.read_csv(\"https://hds5210-data.s3.amazonaws.com/npidata.csv\")\n",
        "npdata.shape"
      ],
      "metadata": {
        "id": "fUxMzh5iVE-t",
        "outputId": "d06f2654-49a7-40b0-d0e6-ccec38d70191",
        "colab": {
          "base_uri": "https://localhost:8080/"
        }
      },
      "execution_count": 234,
      "outputs": [
        {
          "output_type": "stream",
          "name": "stderr",
          "text": [
            "<ipython-input-234-d3f280caed41>:1: DtypeWarning: Columns (18,33) have mixed types. Specify dtype option on import or set low_memory=False.\n",
            "  npdata = pd.read_csv(\"https://hds5210-data.s3.amazonaws.com/npidata.csv\")\n"
          ]
        },
        {
          "output_type": "execute_result",
          "data": {
            "text/plain": [
              "(251661, 43)"
            ]
          },
          "metadata": {},
          "execution_count": 234
        }
      ]
    },
    {
      "cell_type": "code",
      "source": [
        "npdata.columns"
      ],
      "metadata": {
        "id": "e-j2nrwzVVdV",
        "outputId": "2a5a0560-232d-4333-a65b-cd694140a6d7",
        "colab": {
          "base_uri": "https://localhost:8080/"
        }
      },
      "execution_count": 235,
      "outputs": [
        {
          "output_type": "execute_result",
          "data": {
            "text/plain": [
              "Index(['row', 'NPI', 'Entity Type Code', 'Replacement NPI',\n",
              "       'Employer Identification Number (EIN)',\n",
              "       'Provider Organization Name (Legal Business Name)',\n",
              "       'Provider Last Name (Legal Name)', 'Provider First Name',\n",
              "       'Provider Middle Name', 'Provider Name Prefix Text',\n",
              "       'Provider Name Suffix Text', 'Provider Credential Text',\n",
              "       'Provider Other Organization Name',\n",
              "       'Provider Other Organization Name Type Code',\n",
              "       'Provider Other Last Name', 'Provider Other First Name',\n",
              "       'Provider Other Middle Name', 'Provider Other Name Prefix Text',\n",
              "       'Provider Other Name Suffix Text', 'Provider Other Credential Text',\n",
              "       'Provider Other Last Name Type Code',\n",
              "       'Provider First Line Business Mailing Address',\n",
              "       'Provider Second Line Business Mailing Address',\n",
              "       'Provider Business Mailing Address City Name',\n",
              "       'Provider Business Mailing Address State Name',\n",
              "       'Provider Business Mailing Address Postal Code',\n",
              "       'Provider Business Mailing Address Country Code (If outside U.S.)',\n",
              "       'Provider Business Mailing Address Telephone Number',\n",
              "       'Provider Business Mailing Address Fax Number',\n",
              "       'Provider First Line Business Practice Location Address',\n",
              "       'Provider Second Line Business Practice Location Address',\n",
              "       'Provider Business Practice Location Address City Name',\n",
              "       'Provider Business Practice Location Address State Name',\n",
              "       'Provider Business Practice Location Address Postal Code',\n",
              "       'Provider Business Practice Location Address Country Code (If outside U.S.)',\n",
              "       'Provider Business Practice Location Address Telephone Number',\n",
              "       'Provider Business Practice Location Address Fax Number',\n",
              "       'Provider Enumeration Date', 'Last Update Date',\n",
              "       'NPI Deactivation Reason Code', 'NPI Deactivation Date',\n",
              "       'NPI Reactivation Date', 'Provider Gender Code'],\n",
              "      dtype='object')"
            ]
          },
          "metadata": {},
          "execution_count": 235
        }
      ]
    },
    {
      "cell_type": "code",
      "source": [
        "# Check for duplicate columns\n",
        "print(\"Duplicate columns in cms:\", cms.columns[cms.columns.duplicated()])\n",
        "print(\"Duplicate columns in npdata:\", npdata.columns[npdata.columns.duplicated()])\n",
        "\n",
        "# Check data types of the 'NPI' column\n",
        "print(\"Data type of 'NPI' in cms:\", cms['NPI'].dtype)\n"
      ],
      "metadata": {
        "id": "WHgBP8tBeahJ",
        "outputId": "74965eef-32e0-492e-e005-93587b712162",
        "colab": {
          "base_uri": "https://localhost:8080/"
        }
      },
      "execution_count": 246,
      "outputs": [
        {
          "output_type": "stream",
          "name": "stdout",
          "text": [
            "Duplicate columns in cms: Index([], dtype='object')\n",
            "Duplicate columns in npdata: Index([], dtype='object')\n",
            "Data type of 'NPI' in cms: int64\n"
          ]
        }
      ]
    },
    {
      "cell_type": "code",
      "execution_count": 243,
      "metadata": {
        "nbgrader": {
          "grade": false,
          "grade_id": "02-solution",
          "locked": false,
          "schema_version": 1,
          "solution": true
        },
        "id": "KCL6OxN0Awph",
        "outputId": "69320cd0-49c2-448d-b443-ae7c8a7484cc",
        "colab": {
          "base_uri": "https://localhost:8080/"
        }
      },
      "outputs": [
        {
          "output_type": "execute_result",
          "data": {
            "text/plain": [
              "(193862, 102)"
            ]
          },
          "metadata": {},
          "execution_count": 243
        }
      ],
      "source": [
        "cms = pd.concat([cms2014, cms2015, cms2016], keys=['2014', '2015', '2016'])\n",
        "cms.rename(columns={\"npi\": \"NPI\"}, inplace=True)\n",
        "answer = pd.merge(cms, npdata, on='NPI', how='left')\n",
        "### SOLUTION\n",
        "answer.shape"
      ]
    },
    {
      "cell_type": "code",
      "source": [
        "answer.columns"
      ],
      "metadata": {
        "id": "VDs7V5VMctmi",
        "outputId": "c710deee-206d-4700-db22-d44d69edb440",
        "colab": {
          "base_uri": "https://localhost:8080/"
        }
      },
      "execution_count": 244,
      "outputs": [
        {
          "output_type": "execute_result",
          "data": {
            "text/plain": [
              "Index(['nbr', 'NPI', 'provider_type', 'medicare_participation_indicator',\n",
              "       'number_of_hcpcs', 'total_services', 'total_unique_benes',\n",
              "       'total_submitted_chrg_amt', 'total_medicare_allowed_amt',\n",
              "       'total_medicare_payment_amt',\n",
              "       ...\n",
              "       'Provider Business Practice Location Address Postal Code',\n",
              "       'Provider Business Practice Location Address Country Code (If outside U.S.)',\n",
              "       'Provider Business Practice Location Address Telephone Number',\n",
              "       'Provider Business Practice Location Address Fax Number',\n",
              "       'Provider Enumeration Date', 'Last Update Date',\n",
              "       'NPI Deactivation Reason Code', 'NPI Deactivation Date',\n",
              "       'NPI Reactivation Date', 'Provider Gender Code'],\n",
              "      dtype='object', length=102)"
            ]
          },
          "metadata": {},
          "execution_count": 244
        }
      ]
    },
    {
      "cell_type": "code",
      "source": [
        "common_columns = cms.columns.intersection(npdata.columns)\n",
        "print(\"Common Columns:\", common_columns)"
      ],
      "metadata": {
        "id": "2BocyrdCcgLB",
        "outputId": "a38e2024-a4b1-4686-ba02-d5497c375538",
        "colab": {
          "base_uri": "https://localhost:8080/"
        }
      },
      "execution_count": 239,
      "outputs": [
        {
          "output_type": "stream",
          "name": "stdout",
          "text": [
            "Common Columns: Index(['NPI'], dtype='object')\n"
          ]
        }
      ]
    },
    {
      "cell_type": "code",
      "execution_count": 238,
      "metadata": {
        "nbgrader": {
          "grade": true,
          "grade_id": "02-tests",
          "locked": true,
          "points": 5,
          "schema_version": 1,
          "solution": false
        },
        "id": "sPEM0Bq0Awph"
      },
      "outputs": [],
      "source": [
        "import numpy\n",
        "#assert(answer.shape == (193862, 103))\n",
        "assert(list(answer['Provider Business Mailing Address State Name'].unique()) == ['IL','MO',numpy.nan,'WY'])\n",
        "assert(list(answer.groupby('Provider Business Mailing Address State Name').NPI.count()) == [111520, 53366, 4805])"
      ]
    },
    {
      "cell_type": "markdown",
      "metadata": {
        "nbgrader": {
          "grade": false,
          "grade_id": "03-intro",
          "locked": true,
          "schema_version": 1,
          "solution": false
        },
        "id": "ID5cZ8ZZAwph"
      },
      "source": [
        "## Part 3\n",
        "\n",
        "If you did everything right above, you'll notice that grouping by a column with NaN in it will cause some rows to disappear from the aggregation test.  So, let's create a new column called `'State'` that has the same value as whatever is in the `'Provider Business Mailing Address State Name'` column or a value of `'XX'` if there is no state information.\n",
        "\n",
        "Set `answer` to be your final data frame with the new `'State'` column added."
      ]
    },
    {
      "cell_type": "code",
      "execution_count": null,
      "metadata": {
        "nbgrader": {
          "grade": false,
          "grade_id": "03-solution",
          "locked": false,
          "schema_version": 1,
          "solution": true
        },
        "id": "jgc2cUlrAwph"
      },
      "outputs": [],
      "source": [
        "answer = None\n",
        "\n",
        "### SOLUTION\n"
      ]
    },
    {
      "cell_type": "code",
      "execution_count": null,
      "metadata": {
        "nbgrader": {
          "grade": true,
          "grade_id": "03-tests",
          "locked": true,
          "points": 5,
          "schema_version": 1,
          "solution": false
        },
        "id": "503H14qTAwph"
      },
      "outputs": [],
      "source": [
        "assert(list(answer.groupby('State').npi.count()) == [111520, 53366, 4805, 24171])\n",
        "assert(answer.shape == (193862, 104))"
      ]
    },
    {
      "cell_type": "markdown",
      "metadata": {
        "nbgrader": {
          "grade": false,
          "grade_id": "04-intro",
          "locked": true,
          "schema_version": 1,
          "solution": false
        },
        "id": "5O1jMpj5Awph"
      },
      "source": [
        "## Part 4\n",
        "\n",
        "Next, let's summarize the data by year and by State.  Create a pivot table that contains one row for each state and one column for each year.  Within the pivot table, put a sum of total services as the values.\n",
        "\n",
        "Assign `answer` to be that resulting pivot table.  In the tests, I'm going to plot a bar chart of your pivot table."
      ]
    },
    {
      "cell_type": "code",
      "execution_count": null,
      "metadata": {
        "nbgrader": {
          "grade": false,
          "grade_id": "04-solution",
          "locked": false,
          "schema_version": 1,
          "solution": true
        },
        "id": "hduU6o1XAwph"
      },
      "outputs": [],
      "source": [
        "%matplotlib inline\n",
        "answer = None\n",
        "\n",
        "### SOLUTION\n"
      ]
    },
    {
      "cell_type": "code",
      "execution_count": null,
      "metadata": {
        "nbgrader": {
          "grade": true,
          "grade_id": "04-tests",
          "locked": true,
          "points": 5,
          "schema_version": 1,
          "solution": false
        },
        "id": "jMiUBo4BAwph"
      },
      "outputs": [],
      "source": [
        "assert(answer.shape == (4,3))\n",
        "assert(answer.sum().sum() == 519185664.6999999)\n",
        "assert(answer[2016].sum() == 176596933.80000004)\n",
        "assert(answer.loc['WY'].sum() == 10892707.4)"
      ]
    },
    {
      "cell_type": "code",
      "execution_count": null,
      "metadata": {
        "id": "6snD9sOGAwph"
      },
      "outputs": [],
      "source": [
        "%matplotlib inline\n",
        "answer.plot.bar()"
      ]
    },
    {
      "cell_type": "code",
      "execution_count": null,
      "metadata": {
        "id": "7Y3ctt3sAwph"
      },
      "outputs": [],
      "source": []
    }
  ],
  "metadata": {
    "celltoolbar": "Create Assignment",
    "kernelspec": {
      "display_name": "Python 3",
      "language": "python",
      "name": "python3"
    },
    "language_info": {
      "codemirror_mode": {
        "name": "ipython",
        "version": 3
      },
      "file_extension": ".py",
      "mimetype": "text/x-python",
      "name": "python",
      "nbconvert_exporter": "python",
      "pygments_lexer": "ipython3",
      "version": "3.6.7"
    },
    "colab": {
      "provenance": [],
      "include_colab_link": true
    }
  },
  "nbformat": 4,
  "nbformat_minor": 0
}