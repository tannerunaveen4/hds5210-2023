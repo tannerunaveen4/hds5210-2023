{
  "cells": [
    {
      "cell_type": "markdown",
      "metadata": {
        "id": "9RUZLoVSRQcM"
      },
      "source": [
        "In this week's lectures, we talked about \"pivoting\" data between wide formats and long formats.  This is an extremely useful process when trying to understand, aggregate, and process data in different ways.  Similiar to Excel Pivot Tables, pivoting data with Pandas can help you aggregate data and look for patterns more easily.\n",
        "\n",
        "Test your knowledge of the content from the lectures through the multiple choice questions below.\n",
        "\n",
        "---\n",
        "---"
      ]
    },
    {
      "cell_type": "markdown",
      "metadata": {
        "id": "aqsfrdgtRQcQ"
      },
      "source": [
        "### 48.1 Which of the following functions can pivot data in Pandas from long to wide formats?\n",
        "\n",
        "> A) flatten\n",
        ">\n",
        "> B) pivot_table\n",
        ">\n",
        "> C) pivot\n",
        ">\n",
        "> D) expand"
      ]
    },
    {
      "cell_type": "code",
      "execution_count": 9,
      "metadata": {
        "id": "-0iw2_zORQcR"
      },
      "outputs": [],
      "source": [
        "answers = {}\n",
        "answers['48.1'] = [\"B\", \"C\"]"
      ]
    },
    {
      "cell_type": "markdown",
      "metadata": {
        "id": "UViSWpyWRQcT"
      },
      "source": [
        "### 48.2 Given the code below, what columns will the resulting data frame have?\n",
        "\n",
        "\n",
        "```python\n",
        "data.pivot(index='Txn', columns='Dept', values='Amount)\n",
        "```\n",
        "\n",
        "\n",
        "| Txn | Dept | Amount |\n",
        "|---|---|---|\n",
        "| A8739 | Finance | 10.21 |\n",
        "| A9821 | IT | 91.13 |\n",
        "| A8739 | Hospital | 11.33 |\n",
        "| AB783 | HR | 190.29 |\n",
        "| A1123 | Hospital | 98.44 |\n",
        "| A8719 | IT | 43.88 |\n",
        "\n",
        "\n",
        "> A) Dept\n",
        ">\n",
        "> B) Txn, Amount 1, Amount 2, Amount 3, Amount 4\n",
        ">\n",
        "> C) Finance, IT, HR, Hospital, Amount\n",
        ">\n",
        "> D) Txn, Finance, IT, Hospital, HR"
      ]
    },
    {
      "cell_type": "code",
      "execution_count": 10,
      "metadata": {
        "id": "K9oBedgXRQcU"
      },
      "outputs": [],
      "source": [
        "answers['48.2'] = \"C\""
      ]
    },
    {
      "cell_type": "markdown",
      "metadata": {
        "id": "VytENa2ORQcU"
      },
      "source": [
        "### 49.1 Which of the following functions can stack a Pandas data frame from wide to long formats?\n",
        "\n",
        "> A) melt\n",
        ">\n",
        "> B) pivot\n",
        ">\n",
        "> C) wide_to_long\n",
        ">\n",
        "> D) stack"
      ]
    },
    {
      "cell_type": "code",
      "execution_count": 11,
      "metadata": {
        "id": "SjnWI_XgRQcV"
      },
      "outputs": [],
      "source": [
        "answers['49.1'] = [\"A\", \"C\",\"D\"]"
      ]
    },
    {
      "cell_type": "code",
      "execution_count": 11,
      "metadata": {
        "id": "0ez9hVJXRQcV"
      },
      "outputs": [],
      "source": []
    },
    {
      "cell_type": "code",
      "execution_count": 11,
      "metadata": {
        "id": "sWW_rSYtRQcV"
      },
      "outputs": [],
      "source": []
    },
    {
      "cell_type": "markdown",
      "metadata": {
        "id": "simKX6YTRQcV"
      },
      "source": [
        "---\n",
        "\n",
        "Checking Your Work\n",
        "---\n",
        "\n",
        "After completing your work above and running each cell, you can check your answers by running the code below.\n",
        "\n",
        "The easiest way to do this is to use the `Kernel` -> `Restart Kernel and Run All Cells` menu option. This option restarts Python and runs every cell from top to bottom until it encounters an exception of some kind.  It will stop after running the cell below and outputing a summary of how many answers you have correct or incorrect.\n"
      ]
    },
    {
      "cell_type": "code",
      "execution_count": 12,
      "metadata": {
        "id": "fWFUj0oKRQcW",
        "outputId": "f919ebfe-9531-45a5-896d-d0561b73227e",
        "colab": {
          "base_uri": "https://localhost:8080/"
        }
      },
      "outputs": [
        {
          "output_type": "stream",
          "name": "stdout",
          "text": [
            "Requirement already satisfied: boto3 in /usr/local/lib/python3.10/dist-packages (1.29.2)\n",
            "Requirement already satisfied: botocore<1.33.0,>=1.32.2 in /usr/local/lib/python3.10/dist-packages (from boto3) (1.32.2)\n",
            "Requirement already satisfied: jmespath<2.0.0,>=0.7.1 in /usr/local/lib/python3.10/dist-packages (from boto3) (1.0.1)\n",
            "Requirement already satisfied: s3transfer<0.8.0,>=0.7.0 in /usr/local/lib/python3.10/dist-packages (from boto3) (0.7.0)\n",
            "Requirement already satisfied: python-dateutil<3.0.0,>=2.1 in /usr/local/lib/python3.10/dist-packages (from botocore<1.33.0,>=1.32.2->boto3) (2.8.2)\n",
            "Requirement already satisfied: urllib3<2.1,>=1.25.4 in /usr/local/lib/python3.10/dist-packages (from botocore<1.33.0,>=1.32.2->boto3) (2.0.7)\n",
            "Requirement already satisfied: six>=1.5 in /usr/local/lib/python3.10/dist-packages (from python-dateutil<3.0.0,>=2.1->botocore<1.33.0,>=1.32.2->boto3) (1.16.0)\n",
            "=============================================\n",
            "== RESULTS for tannerunaveen4@gmail.com\n",
            "=============================================\n",
            "   Q#               Yours  Correct?\n",
            " 48.1          ['B', 'C']        OK\n",
            " 48.2                   C        OK\n",
            " 49.1     ['A', 'C', 'D']        OK\n"
          ]
        }
      ],
      "source": [
        "!pip install boto3\n",
        "import httpimport\n",
        "with httpimport.remote_repo('https://gist.githubusercontent.com/paulboal/f14bead2d24fcb9499f4de4607908824/raw/4c3c0e75ea1510bb090bada047372954160e64d4'):\n",
        "    import checker\n",
        "\n",
        "checker.check_hds5210(answers, 'week12')"
      ]
    },
    {
      "cell_type": "markdown",
      "metadata": {
        "id": "TpKXjLjVRQcX"
      },
      "source": [
        "---\n",
        "\n",
        "## Check your work above\n",
        "\n",
        "If you didn't get them all correct, take a few minutes to think through those that aren't correct.\n",
        "\n",
        "\n",
        "## Submitting Your Work\n",
        "\n",
        "In order to submit your work, you'll need to save this notebook file back to GitHub.  To do that in Google Colab:\n",
        "1. File -> Save a Copy in GitHub\n",
        "2. Make sure your HDS5210 repository is selected\n",
        "3. Make sure the file name includes the week number like this: `week02/week02_assignment_1.ipynb`\n",
        "4. Add a commit message that means something\n",
        "\n",
        "**Be sure week names are lowercase and use a two digit week number!!**\n",
        "\n",
        "**Be sure you use the same file name provided by the instructor!!**\n",
        "\n"
      ]
    }
  ],
  "metadata": {
    "kernelspec": {
      "display_name": "Python 3",
      "language": "python",
      "name": "python3"
    },
    "language_info": {
      "codemirror_mode": {
        "name": "ipython",
        "version": 3
      },
      "file_extension": ".py",
      "mimetype": "text/x-python",
      "name": "python",
      "nbconvert_exporter": "python",
      "pygments_lexer": "ipython3",
      "version": "3.6.7"
    },
    "colab": {
      "provenance": []
    }
  },
  "nbformat": 4,
  "nbformat_minor": 0
}