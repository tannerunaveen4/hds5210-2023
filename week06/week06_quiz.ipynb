{
  "cells": [
    {
      "cell_type": "markdown",
      "metadata": {
        "id": "KFz84csY6Qgd"
      },
      "source": [
        "# In Class Quiz!\n",
        "\n",
        "This week, we are doing an in-class quiz to see how each of you is doing on your own.\n",
        "\n",
        "You must complete this work **entirely on your own** in the next 15 minutes.\n",
        "\n",
        "You may **not ask for help** from anyone **including Google or ChatGPT**.\n",
        "\n",
        "You **are allowed** to use class slides, the online textbook, previous assignments, and any other notes you have.\n",
        "\n",
        "This quiz will be worth **20 points**.\n"
      ]
    },
    {
      "cell_type": "markdown",
      "metadata": {
        "id": "7K41z7L56Qgg"
      },
      "source": [
        "## Q6.1 - Mean Arterial Pressure (MAP)\n",
        "\n",
        "Mean Arterial Pressure can indicate if a patient is receiving sufficient blood to keep tissue alive.  You can see how to calculate MAP on the [Evidence tab of this page](https://www.mdcalc.com/calc/74/mean-arterial-pressure-map).  I've included the important details here for easy reference.\n",
        "\n",
        "* `map = (1/3 * systolic_bp) + (2/3 * diastolic_bp)`\n",
        "* If a patient has severe sepsis, we want their MAP to be ≥65 mmHg\n",
        "* If a patient does not have severe sepsis, we want their MAP to to be ≥60 mmHg\n",
        "* If the systolic_bp or diastolic_bp reported are ≤ 0, you should return `None`\n",
        "\n",
        "You need to create a function called `map_test()` that takes three parameters: `systolic_bp`, `diastolic_bp`, and `severe_sepsis`.\n",
        "* `systolic_bp` will be an integer\n",
        "* `diastolic_bp` will be an integer\n",
        "* `severe_sepsis` will be a boolean, indicating if the patient has severe sepsis (`True`) or not (`False`)\n",
        "\n",
        "Your function should return either a `True` or `False` depending on if the patient's Mean Arterial Pressure is sufficient to maintain a healthy condition.  That is:\n",
        "* If the patient has severe sepsis, then a MAP ≥ 65 should return True; otherwise False\n",
        "* If the patient does not have severe sepsis, then a MAP ≥ 60 should return True; otherwise False\n",
        "\n",
        "I have provided several test scenarios to help you verify your work.\n",
        "\n",
        "For full credit, your code must satisfy all of the following requirements:\n",
        "1. Pass all of the assert tests provided below\n",
        "2. Have a docstring with parameter types, function description, and at least 5 test cases that cover a range of inputs and outputs\n",
        "3. Successfully run all 5 tests when the *run_docstring_examples* cell is called\n",
        "4. Implement the rules above completely, even if a test scenario is not represented in the asserts or docstrings\n",
        "\n"
      ]
    },
    {
      "cell_type": "code",
      "execution_count": 1,
      "metadata": {
        "id": "maJeT6bN6Qgg"
      },
      "outputs": [],
      "source": [
        "# Put your code here\n",
        "def map_test(systolic_bp, diastolic_bp, severe_sepsis):\n",
        "    # Check if systolic_bp or diastolic_bp is less than or equal to 0, return None\n",
        "    if systolic_bp <= 0 or diastolic_bp <= 0:\n",
        "        return None\n",
        "\n",
        "    # Calculate MAP\n",
        "    map_value = (1/3 * systolic_bp) + (2/3 * diastolic_bp)\n",
        "\n",
        "    # Check if the patient has severe sepsis\n",
        "    if severe_sepsis:\n",
        "        return map_value >= 65\n",
        "    else:\n",
        "        return map_value >= 60"
      ]
    },
    {
      "cell_type": "code",
      "execution_count": null,
      "metadata": {
        "id": "z_NLEprf6Qgh"
      },
      "outputs": [],
      "source": [
        "# map_test(systolic_bp, diastolic_bp, severe_sepsis) == True if the patient is getting enough oxygen to their body\n",
        "# map_test(systolic_bp, diastolic_bp, severe_sepsis) == False if the patient is not getting enough oxygen\n",
        "\n",
        "assert map_test(110, 70, False) == True\n",
        "assert map_test(90,  50, False) == True\n",
        "assert map_test(110, 70, True)  == True\n",
        "assert map_test(90,  50, True)  == False\n",
        "assert map_test(0,   70, False) == None\n",
        "assert map_test(110, 0,  False) == None\n",
        "assert map_test(0,   70, True)  == None\n",
        "assert map_test(110, 0,  True)  == None\n",
        "assert map_test(0,   0,  False) == None\n",
        "assert map_test(0,   0,  True)  == None"
      ]
    },
    {
      "cell_type": "code",
      "execution_count": null,
      "metadata": {
        "id": "YSzNyxle6Qgi"
      },
      "outputs": [],
      "source": [
        "import doctest\n",
        "doctest.run_docstring_examples(map_test, globals(), verbose=True)"
      ]
    },
    {
      "cell_type": "markdown",
      "metadata": {
        "id": "vgs2DQvS6Qgi"
      },
      "source": [
        "## Q6.2\n",
        "\n",
        "Replace the `?` in each of the lines of code below with one of the following responses: `dict`, `list`, `str`, `int`, or `ERROR` if you think the code is invalid.\n",
        "\n",
        "Based on the following value of the variable `data`:\n",
        "\n",
        "```python\n",
        "data = [\n",
        "    {\n",
        "        \"last_name\": \"Boal\",\n",
        "        \"first_names\": [\"Paul\", \"Anny\"]\n",
        "    },\n",
        "    {\n",
        "        \"last_name\": \"Einstein\",\n",
        "        \"first_names\": [\"Albert\"]\n",
        "    }\n",
        "]\n",
        "```\n",
        "\n",
        "The first one is done for you to show as an example."
      ]
    },
    {
      "cell_type": "code",
      "execution_count": null,
      "metadata": {
        "id": "Ky6MAa9R6Qgj"
      },
      "outputs": [],
      "source": [
        "type(data) == list"
      ]
    },
    {
      "cell_type": "code",
      "execution_count": null,
      "metadata": {
        "id": "luwyD58E6Qgj"
      },
      "outputs": [],
      "source": [
        "type(data[0]) == dict"
      ]
    },
    {
      "cell_type": "code",
      "execution_count": null,
      "metadata": {
        "id": "JFEl7OLq6Qgj"
      },
      "outputs": [],
      "source": [
        "type(data[1]) == dict"
      ]
    },
    {
      "cell_type": "code",
      "execution_count": null,
      "metadata": {
        "id": "DxnNoaBe6Qgj"
      },
      "outputs": [],
      "source": [
        "type(data[0][\"first_names\"]) == list"
      ]
    },
    {
      "cell_type": "code",
      "execution_count": null,
      "metadata": {
        "id": "nbeAoVvQ6Qgk"
      },
      "outputs": [],
      "source": [
        "type(data[0][\"first_names\"][0]) == str"
      ]
    },
    {
      "cell_type": "code",
      "execution_count": 2,
      "metadata": {
        "id": "hTFsy1Bs6Qgk",
        "outputId": "e574881a-4c8e-499f-8651-fab3c00632ad",
        "colab": {
          "base_uri": "https://localhost:8080/",
          "height": 175
        }
      },
      "outputs": [
        {
          "output_type": "error",
          "ename": "NameError",
          "evalue": "ignored",
          "traceback": [
            "\u001b[0;31m---------------------------------------------------------------------------\u001b[0m",
            "\u001b[0;31mNameError\u001b[0m                                 Traceback (most recent call last)",
            "\u001b[0;32m<ipython-input-2-2f00c77a9992>\u001b[0m in \u001b[0;36m<cell line: 1>\u001b[0;34m()\u001b[0m\n\u001b[0;32m----> 1\u001b[0;31m \u001b[0mtype\u001b[0m\u001b[0;34m(\u001b[0m\u001b[0mdata\u001b[0m\u001b[0;34m[\u001b[0m\u001b[0;34m-\u001b[0m\u001b[0;36m1\u001b[0m\u001b[0;34m]\u001b[0m\u001b[0;34m[\u001b[0m\u001b[0;34m\"last_name\"\u001b[0m\u001b[0;34m]\u001b[0m\u001b[0;34m)\u001b[0m \u001b[0;34m==\u001b[0m \u001b[0mstr\u001b[0m\u001b[0;34m\u001b[0m\u001b[0;34m\u001b[0m\u001b[0m\n\u001b[0m",
            "\u001b[0;31mNameError\u001b[0m: name 'data' is not defined"
          ]
        }
      ],
      "source": [
        "type(data[-1][\"last_name\"]) == str"
      ]
    },
    {
      "cell_type": "code",
      "execution_count": null,
      "metadata": {
        "id": "FLZiEHHC6Qgk"
      },
      "outputs": [],
      "source": []
    }
  ],
  "metadata": {
    "kernelspec": {
      "display_name": ".venv",
      "language": "python",
      "name": "python3"
    },
    "language_info": {
      "codemirror_mode": {
        "name": "ipython",
        "version": 3
      },
      "file_extension": ".py",
      "mimetype": "text/x-python",
      "name": "python",
      "nbconvert_exporter": "python",
      "pygments_lexer": "ipython3",
      "version": "3.9.16"
    },
    "orig_nbformat": 4,
    "colab": {
      "provenance": []
    }
  },
  "nbformat": 4,
  "nbformat_minor": 0
}