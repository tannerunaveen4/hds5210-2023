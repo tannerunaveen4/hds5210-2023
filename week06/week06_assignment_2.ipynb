{
  "cells": [
    {
      "cell_type": "markdown",
      "metadata": {
        "nbgrader": {
          "grade": false,
          "grade_id": "intro",
          "locked": true,
          "schema_version": 1,
          "solution": false
        },
        "id": "TrYknpHYujTV"
      },
      "source": [
        "# Week 6 Exercises\n",
        "\n",
        "_McKinney 6.1_\n",
        "\n",
        "There are multiple ways to solve the problems below.  You can use any one of several approaches.  For example, you can read CSV files using Pandas or the csv module.  Your score won't depend on which modules you choose to use unless explicitly noted below, but your programming style will still matter."
      ]
    },
    {
      "cell_type": "markdown",
      "metadata": {
        "nbgrader": {
          "grade": false,
          "grade_id": "q1-description",
          "locked": true,
          "schema_version": 1,
          "solution": false
        },
        "id": "lgXaDanqujTZ"
      },
      "source": [
        "### 30.1 List of Allergies\n",
        "\n",
        "In this GitHub repository, there is a file called `allergies.json` that contains a list of patient allergies.  You will need to download this [file from here](https://raw.githubusercontent.com/paulboal/hds5210-2023/main/week06/allergies.json) and then upload it into Google Colab to run these examples. It is taken from sample data provided by the EHR vendor, Epic, here: https://open.epic.com/Clinical/Allergy\n",
        "\n",
        "Take some time to look at the structure of the file.  You can open it directly in Jupyter by clicking the _Home_ icon, then the _from_instructor_ folder, and then the _data_ folder.\n",
        "\n",
        "Within the file, you'll see that it is a dictionary with many items in it.  One of those items is called `entry` and that item is a list of things.  You can tell that because the item name is immediately followed by an opening square bracket, signifying the start of a list.  It's line 11 of the file: `  \"entry\": [`\n",
        "\n",
        "Write a function named `allergy_count(json_file)` that takes as one parameter the name of the JSON file and returns an integer number of entries in that file.  Your function should open the file, read the json into a Python object, and return how many items there are in the list of `entry`s."
      ]
    },
    {
      "cell_type": "code",
      "execution_count": 1,
      "metadata": {
        "id": "1OXEwEbcujTa"
      },
      "outputs": [],
      "source": [
        "import json\n",
        "ALLERGIES_FILE=\"allergies.json\""
      ]
    },
    {
      "cell_type": "code",
      "execution_count": 10,
      "metadata": {
        "nbgrader": {
          "grade": false,
          "grade_id": "q1-answer",
          "locked": false,
          "schema_version": 1,
          "solution": true
        },
        "id": "zSbcpPTRujTc"
      },
      "outputs": [],
      "source": [
        "# Put your solution here\n",
        "def allergy_count(json_file):\n",
        "  allegeries = json.load(open(json_file))\n",
        "  num_of_entries = len(allegeries.get('entry', []))\n",
        "  return num_of_entries"
      ]
    },
    {
      "cell_type": "code",
      "execution_count": 11,
      "metadata": {
        "id": "v5r8uL_LujTc",
        "outputId": "969cb9b4-539a-4a61-c16a-08fe086e8b3b",
        "colab": {
          "base_uri": "https://localhost:8080/"
        }
      },
      "outputs": [
        {
          "output_type": "execute_result",
          "data": {
            "text/plain": [
              "4"
            ]
          },
          "metadata": {},
          "execution_count": 11
        }
      ],
      "source": [
        "allergy_count(ALLERGIES_FILE)"
      ]
    },
    {
      "cell_type": "code",
      "execution_count": 12,
      "metadata": {
        "nbgrader": {
          "grade": true,
          "grade_id": "q1-tests",
          "locked": true,
          "points": 5,
          "schema_version": 1,
          "solution": false
        },
        "id": "ThwdoN5SujTd"
      },
      "outputs": [],
      "source": [
        "assert type(allergy_count(ALLERGIES_FILE)) == int\n",
        "assert allergy_count(ALLERGIES_FILE) == 4"
      ]
    },
    {
      "cell_type": "markdown",
      "metadata": {
        "id": "hxZxq073ujTd"
      },
      "source": [
        "### 30.2 Number of Patients\n",
        "\n",
        "If you dig a little bit deaper into this list of allergies, you'll see that each result has a patient associated with it.  Create a funcation called `patient_count(json_file)` that will count how many unique patients we have in this JSON structure.  "
      ]
    },
    {
      "cell_type": "code",
      "source": [
        "allegeries = json.load(open(ALLERGIES_FILE))\n",
        "allegeries.get('entry', [])"
      ],
      "metadata": {
        "id": "lHnc9rcLz8Gd",
        "outputId": "d7a404c2-97c9-4cd3-81a7-80a2ab5f7410",
        "colab": {
          "base_uri": "https://localhost:8080/"
        }
      },
      "execution_count": 21,
      "outputs": [
        {
          "output_type": "execute_result",
          "data": {
            "text/plain": [
              "[{'resource': {'resourceType': 'AllergyIntolerance',\n",
              "   'recordedDate': '2015-08-24T23:11:36Z',\n",
              "   'status': 'confirmed',\n",
              "   'criticality': 'CRITL',\n",
              "   'onset': '2012-11-07T00:00:00Z',\n",
              "   'patient': {'display': 'Jason Argonaut'},\n",
              "   'substance': {'text': 'PENICILLIN G',\n",
              "    'coding': [{'system': 'http://www.nlm.nih.gov/research/umls/rxnorm',\n",
              "      'code': '7980',\n",
              "      'display': 'PENICILLIN G'},\n",
              "     {'system': 'http://fdasis.nlm.nih.gov',\n",
              "      'code': 'Q42T66VG0C',\n",
              "      'display': 'PENICILLIN G'}]},\n",
              "   'reaction': [{'certainty': 'confirmed',\n",
              "     'onset': '2012-11-07T00:00:00Z',\n",
              "     'manifestation': [{'text': 'Hives'}],\n",
              "     'note': {'text': 'Severity low enough to be prescribed if needed.'}}],\n",
              "   'note': {'text': 'Severity low enough to be prescribed if needed.'}}},\n",
              " {'resource': {'resourceType': 'AllergyIntolerance',\n",
              "   'recordedDate': '2015-11-07T20:55:10Z',\n",
              "   'status': 'confirmed',\n",
              "   'criticality': 'CRITL',\n",
              "   'id': 'TPcWiBG2h2E114Vh0sRT8fQB',\n",
              "   'onset': '2010-05-02T00:00:00Z',\n",
              "   'patient': {'display': 'Jason Argonaut'},\n",
              "   'substance': {'text': 'SHELLFISH-DERIVED PRODUCTS',\n",
              "    'coding': [{'system': 'http://hl7.org/fhir/ndfrt',\n",
              "      'code': 'N0000007624',\n",
              "      'display': 'SHELLFISH-DERIVED PRODUCTS'}]},\n",
              "   'reaction': [{'certainty': 'confirmed',\n",
              "     'onset': '2010-05-02T00:00:00Z',\n",
              "     'manifestation': [{'text': 'Itching'}]}]}},\n",
              " {'resource': {'resourceType': 'AllergyIntolerance',\n",
              "   'recordedDate': '2015-11-07T20:56:34Z',\n",
              "   'status': 'confirmed',\n",
              "   'criticality': 'CRITH',\n",
              "   'id': 'TKebKfLXzu6Sp.LY-IpvpmQB',\n",
              "   'onset': '2014-03-07T00:00:00Z',\n",
              "   'patient': {'display': 'Jason Argonaut'},\n",
              "   'substance': {'text': 'STRAWBERRY',\n",
              "    'coding': [{'system': 'http://www.nlm.nih.gov/research/umls/rxnorm',\n",
              "      'code': '892484',\n",
              "      'display': 'STRAWBERRY'},\n",
              "     {'system': 'http://fdasis.nlm.nih.gov',\n",
              "      'code': '4J2TY8Y81V',\n",
              "      'display': 'STRAWBERRY'}]},\n",
              "   'reaction': [{'certainty': 'confirmed',\n",
              "     'onset': '2014-03-07T00:00:00Z',\n",
              "     'manifestation': [{'text': 'Anaphylaxis'}]}]}},\n",
              " {'resource': {'resourceType': 'AllergyIntolerance',\n",
              "   'recordedDate': '2015-08-24T23:11:36Z',\n",
              "   'status': 'confirmed',\n",
              "   'criticality': 'CRITL',\n",
              "   'onset': '1978-12-08T00:00:00Z',\n",
              "   'patient': {'display': 'Paul Boal'},\n",
              "   'substance': {'text': 'PENICILLIN G',\n",
              "    'coding': [{'system': 'http://www.nlm.nih.gov/research/umls/rxnorm',\n",
              "      'code': '7980',\n",
              "      'display': 'PENICILLIN G'},\n",
              "     {'system': 'http://fdasis.nlm.nih.gov',\n",
              "      'code': 'Q42T66VG0C',\n",
              "      'display': 'PENICILLIN G'}]},\n",
              "   'reaction': [{'certainty': 'confirmed',\n",
              "     'onset': '1978-12-08T00:00:00Z',\n",
              "     'manifestation': [{'text': 'Bruising'}],\n",
              "     'note': {'text': 'Do not prescribe!'}}],\n",
              "   'note': {'text': 'Do not prescribe!'}}}]"
            ]
          },
          "metadata": {},
          "execution_count": 21
        }
      ]
    },
    {
      "cell_type": "code",
      "execution_count": 30,
      "metadata": {
        "id": "gIRCTWjSujTe"
      },
      "outputs": [],
      "source": [
        "# Put your solution here\n",
        "def patient_count(json_file):\n",
        "  allegeries = json.load(open(json_file))\n",
        "  patients = []\n",
        "  for allegy in allegeries.get('entry'):\n",
        "    patient = allegy.get('resource').get('patient')\n",
        "    #appeding into a list avoiding the one already in the list\n",
        "    if patient not in patients:\n",
        "      patients.append(patient)\n",
        "  return len(patients)"
      ]
    },
    {
      "cell_type": "code",
      "execution_count": 31,
      "metadata": {
        "id": "dW5B_UHFujTe",
        "outputId": "729ddbbd-f6b9-4fe7-c81b-7421f6646ef1",
        "colab": {
          "base_uri": "https://localhost:8080/"
        }
      },
      "outputs": [
        {
          "output_type": "execute_result",
          "data": {
            "text/plain": [
              "2"
            ]
          },
          "metadata": {},
          "execution_count": 31
        }
      ],
      "source": [
        "patient_count(ALLERGIES_FILE)"
      ]
    },
    {
      "cell_type": "code",
      "execution_count": 32,
      "metadata": {
        "id": "2a2l0vu0ujTf"
      },
      "outputs": [],
      "source": [
        "assert type(patient_count(ALLERGIES_FILE)) == int\n",
        "assert patient_count(ALLERGIES_FILE) == 2"
      ]
    },
    {
      "cell_type": "markdown",
      "metadata": {
        "id": "LP8VK8XnujTf"
      },
      "source": [
        "### 30.3 How Many Allergies per Patient\n",
        "\n",
        "Although each entry is a separate allergy, several of them are for the same patient.  Write a function called `allergy_per_patient(json_file)` that counts up how many allergies each patient has.\n"
      ]
    },
    {
      "cell_type": "code",
      "execution_count": 45,
      "metadata": {
        "id": "8m1xWja2ujTg"
      },
      "outputs": [],
      "source": [
        "# Put your solution here\n",
        "def allergy_per_patient(json_file):\n",
        "  allegeries = json.load(open(json_file))\n",
        "  patient_allergies = {}\n",
        "  for allegy in allegeries.get('entry'):\n",
        "    patient = allegy.get('resource').get('patient').get('display')\n",
        "    #appeding into a list avoiding the one already in the list dispalying their names and returning the number\n",
        "    if patient:\n",
        "      if patient in patient_allergies:\n",
        "        patient_allergies[patient] += 1\n",
        "      else:\n",
        "        patient_allergies[patient] = 1\n",
        "  return patient_allergies\n"
      ]
    },
    {
      "cell_type": "code",
      "execution_count": 46,
      "metadata": {
        "id": "AjgIGpJ3ujTg",
        "outputId": "4b93aded-3feb-4844-c769-dc6be2512155",
        "colab": {
          "base_uri": "https://localhost:8080/"
        }
      },
      "outputs": [
        {
          "output_type": "execute_result",
          "data": {
            "text/plain": [
              "{'Jason Argonaut': 3, 'Paul Boal': 1}"
            ]
          },
          "metadata": {},
          "execution_count": 46
        }
      ],
      "source": [
        "allergy_per_patient(ALLERGIES_FILE)"
      ]
    },
    {
      "cell_type": "code",
      "execution_count": 47,
      "metadata": {
        "id": "DnWOI2RnujTh"
      },
      "outputs": [],
      "source": [
        "assert type(allergy_per_patient(ALLERGIES_FILE)) == dict\n",
        "assert allergy_per_patient(ALLERGIES_FILE) == {'Paul Boal': 1, 'Jason Argonaut': 3}"
      ]
    },
    {
      "cell_type": "markdown",
      "metadata": {
        "nbgrader": {
          "grade": false,
          "grade_id": "q2-question",
          "locked": true,
          "schema_version": 1,
          "solution": false
        },
        "id": "22lLUDEAujTq"
      },
      "source": [
        "### 30.4 Patient Allergies and Reaction\n",
        "\n",
        "You'll see in the file that each of the items in the `entry` list have several other attributes including a patient name, substance text representation, and a reaction manifestation.  Create a function named `allergy_list(json_file)` that will create an output list that has patient name, allergy, and reaction for each `entry`.  The actual result you should get will be:\n",
        "\n",
        "```python\n",
        "[['Jason Argonaut', 'PENICILLIN G', 'Hives'],\n",
        " ['Paul Boal', 'PENICILLIN G', 'Bruising'],\n",
        " ['Jason Argonaut', 'SHELLFISH-DERIVED PRODUCTS', 'Itching'],\n",
        " ['Jason Argonaut', 'STRAWBERRY', 'Anaphylaxis']]\n",
        "```\n",
        "\n",
        "You'll notice that the reaction and the manifestation of that action are lists.  You only need to capture the first reaction and the first manifestation of the action.  That is, if there is a list of things, just output the first one."
      ]
    },
    {
      "cell_type": "code",
      "execution_count": 76,
      "metadata": {
        "nbgrader": {
          "grade": false,
          "grade_id": "q2-answer",
          "locked": false,
          "schema_version": 1,
          "solution": true
        },
        "id": "fl0lmVr7ujTq"
      },
      "outputs": [],
      "source": [
        "# Put your solution here\n",
        "def allergy_list(json_file):\n",
        "  allegeries = json.load(open(json_file))\n",
        "  allergy_data = []\n",
        "  for allegy in allegeries.get('entry'):\n",
        "    patient_name = allegy.get('resource').get('patient').get('display')\n",
        "    patient_sub = allegy.get('resource').get('substance').get('text')\n",
        "    #it is a list so fetched with index\n",
        "    patient_reaction = allegy.get('resource').get('reaction')[0]['manifestation'][0]['text']\n",
        "    allergy_data.append([patient_name, patient_sub, patient_reaction])\n",
        "  return allergy_data"
      ]
    },
    {
      "cell_type": "code",
      "execution_count": 77,
      "metadata": {
        "id": "xXQAgZjBujTr",
        "outputId": "a4e8608f-f528-49c5-bf35-2cdc4265bbfa",
        "colab": {
          "base_uri": "https://localhost:8080/"
        }
      },
      "outputs": [
        {
          "output_type": "execute_result",
          "data": {
            "text/plain": [
              "[['Jason Argonaut', 'PENICILLIN G', 'Hives'],\n",
              " ['Jason Argonaut', 'SHELLFISH-DERIVED PRODUCTS', 'Itching'],\n",
              " ['Jason Argonaut', 'STRAWBERRY', 'Anaphylaxis'],\n",
              " ['Paul Boal', 'PENICILLIN G', 'Bruising']]"
            ]
          },
          "metadata": {},
          "execution_count": 77
        }
      ],
      "source": [
        "allergy_list(ALLERGIES_FILE)"
      ]
    },
    {
      "cell_type": "code",
      "execution_count": 78,
      "metadata": {
        "nbgrader": {
          "grade": true,
          "grade_id": "q2-tests",
          "locked": true,
          "points": 10,
          "schema_version": 1,
          "solution": false
        },
        "id": "oEV4fXEJujTr"
      },
      "outputs": [],
      "source": [
        "assert allergy_list(ALLERGIES_FILE) == [['Jason Argonaut', 'PENICILLIN G', 'Hives'],\n",
        " ['Jason Argonaut', 'SHELLFISH-DERIVED PRODUCTS', 'Itching'],\n",
        " ['Jason Argonaut', 'STRAWBERRY', 'Anaphylaxis'],\n",
        " ['Paul Boal', 'PENICILLIN G', 'Bruising']]\n"
      ]
    },
    {
      "cell_type": "markdown",
      "metadata": {
        "nbgrader": {
          "grade": false,
          "grade_id": "q3-question",
          "locked": true,
          "schema_version": 1,
          "solution": false
        },
        "id": "63z8ZSa6ujTr"
      },
      "source": [
        "### 30.5 Allergy Reaction\n",
        "\n",
        "Write a function called `allergy_reaction(json_file,patient,substance)` that takes three parameter and returns the reaction that will happen if the patient takes the specified substance.  You can solve this, in part, by calling your `allergy_list` function inside your new `allergy_reaction` function.\n",
        "\n",
        "If the substance is not found in the allergy list, the function should return None."
      ]
    },
    {
      "cell_type": "code",
      "execution_count": 125,
      "metadata": {
        "nbgrader": {
          "grade": false,
          "grade_id": "q3-answer",
          "locked": false,
          "schema_version": 1,
          "solution": true
        },
        "id": "gVNKkv74ujTs"
      },
      "outputs": [],
      "source": [
        "# Put your solution here\n",
        "def allergy_reaction(json_file, patient, substance):\n",
        "  allergy_l = allergy_list(json_file)\n",
        "  for entry in allergy_l:\n",
        "    #assigning values\n",
        "    patient_name, patient_subs, patient_reaction = entry\n",
        "    if patient_name == patient and patient_subs == substance:\n",
        "      return patient_reaction\n"
      ]
    },
    {
      "cell_type": "code",
      "execution_count": 126,
      "metadata": {
        "id": "2YyUj0O3ujTs",
        "outputId": "9cf33f0b-b1e4-4e4e-ea19-d7f28cd30c43",
        "colab": {
          "base_uri": "https://localhost:8080/",
          "height": 35
        }
      },
      "outputs": [
        {
          "output_type": "execute_result",
          "data": {
            "text/plain": [
              "'Hives'"
            ],
            "application/vnd.google.colaboratory.intrinsic+json": {
              "type": "string"
            }
          },
          "metadata": {},
          "execution_count": 126
        }
      ],
      "source": [
        "allergy_reaction(ALLERGIES_FILE, 'Jason Argonaut', 'PENICILLIN G')"
      ]
    },
    {
      "cell_type": "code",
      "execution_count": 127,
      "metadata": {
        "nbgrader": {
          "grade": true,
          "grade_id": "q3-tests",
          "locked": true,
          "points": 5,
          "schema_version": 1,
          "solution": false
        },
        "id": "RQN55JStujTs"
      },
      "outputs": [],
      "source": [
        "assert allergy_reaction(ALLERGIES_FILE, 'Jason Argonaut', 'PENICILLIN G') == 'Hives'\n",
        "assert allergy_reaction(ALLERGIES_FILE, 'Jason Argonaut', 'SHELLFISH-DERIVED PRODUCTS') == 'Itching'\n",
        "assert allergy_reaction(ALLERGIES_FILE, 'Jason Argonaut', 'STRAWBERRY') == 'Anaphylaxis'\n",
        "assert allergy_reaction(ALLERGIES_FILE, 'Jason Argonaut', 'PENICILLIN') == None\n",
        "assert allergy_reaction(ALLERGIES_FILE, 'Paul Boal', 'PENICILLIN G') == 'Bruising'"
      ]
    },
    {
      "cell_type": "markdown",
      "metadata": {
        "id": "Qkm4wPSUujTt"
      },
      "source": [
        "---\n",
        "\n",
        "## Check your work above\n",
        "\n",
        "If you didn't get them all correct, take a few minutes to think through those that aren't correct.\n",
        "\n",
        "\n",
        "## Submitting Your Work\n",
        "\n",
        "In order to submit your work, you'll need to save this notebook file back to GitHub.  To do that in Google Colab:\n",
        "1. File -> Save a Copy in GitHub\n",
        "2. Make sure your HDS5210 repository is selected\n",
        "3. Make sure the file name includes the week number like this: `week06/week06_assignment_2.ipynb`\n",
        "4. Add a commit message that means something\n",
        "\n",
        "**Be sure week names are lowercase and use a two digit week number!!**\n",
        "\n",
        "**Be sure you use the same file name provided by the instructor!!**\n",
        "\n"
      ]
    }
  ],
  "metadata": {
    "celltoolbar": "Create Assignment",
    "kernelspec": {
      "display_name": "Python 3",
      "language": "python",
      "name": "python3"
    },
    "language_info": {
      "codemirror_mode": {
        "name": "ipython",
        "version": 3
      },
      "file_extension": ".py",
      "mimetype": "text/x-python",
      "name": "python",
      "nbconvert_exporter": "python",
      "pygments_lexer": "ipython3",
      "version": "3.9.16"
    },
    "colab": {
      "provenance": []
    }
  },
  "nbformat": 4,
  "nbformat_minor": 0
}